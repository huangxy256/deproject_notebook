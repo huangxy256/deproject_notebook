{
 "cells": [
  {
   "cell_type": "markdown",
   "metadata": {},
   "source": [
    "# Test the recovery of kinematics using spherical kinematics modeling\n",
    "\n",
    "Xiangyu Huang, Stony Brook\n",
    "\n",
    "This notebook will test how well we can recover the kinematics of the sample ETG using spherical Jeans method, using the TNG ETG sample."
   ]
  },
  {
   "cell_type": "code",
   "execution_count": 1,
   "metadata": {
    "execution": {
     "iopub.execute_input": "2024-12-02T20:10:47.658950Z",
     "iopub.status.busy": "2024-12-02T20:10:47.658838Z",
     "iopub.status.idle": "2024-12-02T20:10:48.424271Z",
     "shell.execute_reply": "2024-12-02T20:10:48.423932Z"
    }
   },
   "outputs": [],
   "source": [
    "import numpy as np\n",
    "import matplotlib.pyplot as plt \n",
    "from copy import deepcopy\n",
    "import h5py\n",
    "\n",
    "from cycler import cycler\n",
    "import matplotlib as mpl\n",
    "clist = ['#04B2D9', '#F2B33D', '#F29966', '#F2441D', '#0486C5']\n",
    "mpl.rcParams['axes.prop_cycle'] = cycler(color=clist)\n",
    "\n",
    "from deproject.Cosmo.default_cosmo import get_default_lens_cosmo\n",
    "from jampy.jam_axi_proj import jam_axi_proj\n",
    "from jampy.mge_half_light_isophote import mge_half_light_isophote"
   ]
  },
  {
   "cell_type": "code",
   "execution_count": 2,
   "metadata": {
    "execution": {
     "iopub.execute_input": "2024-12-02T20:10:48.426313Z",
     "iopub.status.busy": "2024-12-02T20:10:48.426078Z",
     "iopub.status.idle": "2024-12-02T20:10:48.428519Z",
     "shell.execute_reply": "2024-12-02T20:10:48.428221Z"
    }
   },
   "outputs": [],
   "source": [
    "oblate = False\n",
    "\n",
    "if oblate:\n",
    "    oblate_name = 'oblate'\n",
    "else:\n",
    "    oblate_name = 'prolate'"
   ]
  },
  {
   "cell_type": "code",
   "execution_count": 3,
   "metadata": {
    "execution": {
     "iopub.execute_input": "2024-12-02T20:10:48.429918Z",
     "iopub.status.busy": "2024-12-02T20:10:48.429748Z",
     "iopub.status.idle": "2024-12-02T20:10:48.487790Z",
     "shell.execute_reply": "2024-12-02T20:10:48.487558Z"
    }
   },
   "outputs": [],
   "source": [
    "def get_sigma_e(surf_lum, sigma_lum, qobs_lum, jam, xbin, ybin):\n",
    "    \"\"\"calculate velocity dispersion within the half-light radius from a jam model\n",
    "\n",
    "    Args:\n",
    "        surf_lum (_type_): peak of surface luminosity MGE \n",
    "        sigma_lum (_type_): sigma of surface luminocity MGE\n",
    "        qobs_lum (_type_): array of the projected axis raio of the surface luminosity MGEs\n",
    "        jam (_type_): jam model, a jampy.jam_axi_proj instance\n",
    "        xbin (_type_): x coordinate to sample the velocity dispersion\n",
    "        ybin (_type_): y coordinate to sample the velocity dispersion\n",
    "        plot_velmap (int, optional): whether to plot the velocity dispersion map. Defaults to 0.\n",
    "        plot_sample_points (int, optional): whether to plot the xy coordinates within the half-light radius. Defaults to 0.\n",
    "        fignum (int, optional): _description_. Defaults to 1.\n",
    "\n",
    "    Raises:\n",
    "        ValueError: _description_\n",
    "\n",
    "    Returns:\n",
    "        _type_: _description_\n",
    "    \"\"\"\n",
    "    ifu_dim = int(np.sqrt(len(xbin)))\n",
    "    if np.all(qobs_lum <= 1):\n",
    "        flux = jam.flux\n",
    "        reff, reff_maj, eps_e, lum_tot = mge_half_light_isophote(surf_lum, sigma_lum, qobs_lum)\n",
    "    elif np.all(qobs_lum > 1):\n",
    "        flux = np.reshape(jam.flux, (ifu_dim, ifu_dim)).T  # for prolate rotate the flux map by 90 degrees to calculate the half-light radius\n",
    "        flux = flux.flatten() \n",
    "        reff, reff_maj, eps_e, lum_tot = mge_half_light_isophote(surf_lum, sigma_lum, 1/qobs_lum)\n",
    "    else:\n",
    "        raise ValueError('Apparent axis ratio must be constant with radius!')\n",
    "\n",
    "    w = xbin**2 + (ybin/(1 - eps_e))**2 < reff_maj**2\n",
    "\n",
    "    model = jam.model\n",
    "\n",
    "    sig_e = np.sqrt((flux[w]*model[w]**2).sum()/flux[w].sum())\n",
    "\n",
    "    return sig_e"
   ]
  },
  {
   "cell_type": "markdown",
   "metadata": {},
   "source": [
    "## Access the mock data"
   ]
  },
  {
   "cell_type": "code",
   "execution_count": 4,
   "metadata": {
    "execution": {
     "iopub.execute_input": "2024-12-02T20:10:48.489486Z",
     "iopub.status.busy": "2024-12-02T20:10:48.489347Z",
     "iopub.status.idle": "2024-12-02T20:10:48.543321Z",
     "shell.execute_reply": "2024-12-02T20:10:48.543054Z"
    }
   },
   "outputs": [
    {
     "name": "stdout",
     "output_type": "stream",
     "text": [
      "(1260,)\n",
      "(482,)\n",
      "<KeysViewHDF5 ['peak_den', 'peak_lum', 'sigma_den', 'sigma_lum']>\n"
     ]
    }
   ],
   "source": [
    "data = np.load('../06-make_kin_mock_data/kin_mock_data/data_{}.npy' .format(oblate_name))\n",
    "data_copy = deepcopy(data)\n",
    "\n",
    "qobs_data = data_copy[1, :]\n",
    "theta_e_data = data_copy[0, :]\n",
    "sigma_e_data = data_copy[2, :]\n",
    "mean_sigma_e_data = np.mean(sigma_e_data)\n",
    "print(qobs_data.shape)\n",
    "\n",
    "# select by the Einstein radius\n",
    "ind_sel = np.where(theta_e_data >= 0.6)[0]\n",
    "qobs_data_sel = qobs_data[ind_sel]\n",
    "sigma_e_data_sel = sigma_e_data[ind_sel]\n",
    "mean_sigma_e_data_sel = np.mean(sigma_e_data_sel)\n",
    "print(qobs_data_sel.shape)\n",
    "\n",
    "# access projected MGE.\n",
    "with h5py.File('../06-make_kin_mock_data/kin_mock_data/mge_{}.hdf5' .format(oblate_name), 'r') as f:\n",
    "    print(f.keys())\n",
    "    peak_den = f['peak_den'][:]\n",
    "    peak_lum = f['peak_lum'][:]\n",
    "    sigma_den = f['sigma_den'][:]\n",
    "    sigma_lum = f['sigma_lum'][:]"
   ]
  },
  {
   "cell_type": "markdown",
   "metadata": {},
   "source": [
    "### Modify the MGE according to the ellipticity to preserve mass and luminosity\n",
    "\n",
    "To change from elliptical model to spherical model, while preserving the lens model, we only need to modify the sigma $\\sigma_k$ of the MGEs describing the mass density profile to be $\\sqrt{Q}\\sigma_k$, where $Q$ is the apparent axis ratio. "
   ]
  },
  {
   "cell_type": "code",
   "execution_count": 5,
   "metadata": {
    "execution": {
     "iopub.execute_input": "2024-12-02T20:10:48.562604Z",
     "iopub.status.busy": "2024-12-02T20:10:48.562424Z",
     "iopub.status.idle": "2024-12-02T20:10:48.570326Z",
     "shell.execute_reply": "2024-12-02T20:10:48.569971Z"
    }
   },
   "outputs": [],
   "source": [
    "coeff_all = np.sqrt(qobs_data)\n",
    "coeff_all = coeff_all[:, None]\n",
    "sigma_den_sph = coeff_all * sigma_den\n",
    "sigma_lum_sph = coeff_all * sigma_lum"
   ]
  },
  {
   "cell_type": "markdown",
   "metadata": {},
   "source": [
    "## Recover velocity dispersion"
   ]
  },
  {
   "cell_type": "code",
   "execution_count": 6,
   "metadata": {
    "execution": {
     "iopub.execute_input": "2024-12-02T20:10:48.571786Z",
     "iopub.status.busy": "2024-12-02T20:10:48.571681Z",
     "iopub.status.idle": "2024-12-02T20:10:48.601192Z",
     "shell.execute_reply": "2024-12-02T20:10:48.600876Z"
    }
   },
   "outputs": [],
   "source": [
    "def recover_vel_disp_sph(peak_lum, sigma_lum_sph, peak_den, sigma_den_sph, distance):\n",
    "    \"\"\"spherical kinematics recovery with JAM\n",
    "\n",
    "    Args:\n",
    "        peak_lum (_type_): amplitude of the MGE describing the luminosity profile (sphericalized)\n",
    "        sigma_lum_sph (_type_): sigma of the MGE describing the luminosity profile (sphericalized)\n",
    "        peak_den (_type_): amplitude of the MGE describing the density profile (sphericalized)\n",
    "        sigma_den_sph (_type_): sigma of the MGE describing the density profile (sphericalized)\n",
    "        distance (_type_): angular diameter distance to the system [Mpc]\n",
    "\n",
    "    Returns:\n",
    "        _type_: recovered velocity dispersion [km/s]\n",
    "    \"\"\"\n",
    "    vel_disp = np.zeros(len(peak_lum))\n",
    "    for i in range(len(peak_lum)):\n",
    "        peak_lum_i = peak_lum[i]\n",
    "        sigma_lum_i = sigma_lum_sph[i]\n",
    "        peak_den_i = peak_den[i]\n",
    "        sigma_den_i = sigma_den_sph[i]\n",
    "        qobs_lum_i = np.ones_like(peak_lum_i) # round\n",
    "        qobs_den_i = np.ones_like(peak_den_i) # round\n",
    "        beta = np.zeros_like(peak_lum_i) # isotropic anisotropy\n",
    "\n",
    "        # set up a grid to perform jam \n",
    "        reff = mge_half_light_isophote(peak_lum_i, sigma_lum_i, qobs_lum_i)[0]\n",
    "        xx = np.linspace(-2.5 * reff, 2.5 * reff, 100)  # avoid (x,y)=(0,0)\n",
    "        xbin, ybin = map(np.ravel, np.meshgrid(xx, xx))\n",
    "\n",
    "        # run jam\n",
    "        jam = jam_axi_proj(peak_lum_i, sigma_lum_i, qobs_lum_i, peak_den_i, sigma_den_i, qobs_den_i, 45.0, 0, distance, xbin, ybin, plot=0, beta=beta, align='sph')\n",
    "        # compute sigma_e\n",
    "        sigma_e = get_sigma_e(peak_lum_i, sigma_lum_i, qobs_lum_i, jam, xbin, ybin)\n",
    "        vel_disp[i] = sigma_e\n",
    "        print(f\"sigma_e: {sigma_e:.2f} km/s\")\n",
    "\n",
    "    return vel_disp"
   ]
  },
  {
   "cell_type": "code",
   "execution_count": 7,
   "metadata": {
    "execution": {
     "iopub.execute_input": "2024-12-02T20:10:48.602538Z",
     "iopub.status.busy": "2024-12-02T20:10:48.602406Z",
     "iopub.status.idle": "2024-12-02T20:25:26.922236Z",
     "shell.execute_reply": "2024-12-02T20:25:26.921910Z"
    }
   },
   "outputs": [],
   "source": [
    "lens_cosmo = get_default_lens_cosmo()\n",
    "distance = lens_cosmo.Dd\n",
    "\n",
    "rerun_calculation = False\n",
    "\n",
    "if rerun_calculation:\n",
    "\n",
    "    vel_disp_sph_all = recover_vel_disp_sph(peak_lum, sigma_lum_sph, peak_den, sigma_den_sph, distance)\n",
    "    np.save('./kin_sph_recovery_{}_all.npy' .format(oblate_name), vel_disp_sph_all)\n",
    "else:\n",
    "    vel_disp_sph_all = np.load('./kin_sph_recovery_{}_all.npy' .format(oblate_name))"
   ]
  },
  {
   "cell_type": "markdown",
   "metadata": {},
   "source": [
    "##### Compare with mock data with NO lensing selection"
   ]
  },
  {
   "cell_type": "code",
   "execution_count": 8,
   "metadata": {
    "execution": {
     "iopub.execute_input": "2024-12-02T20:25:26.924042Z",
     "iopub.status.busy": "2024-12-02T20:25:26.923868Z",
     "iopub.status.idle": "2024-12-02T20:25:26.926291Z",
     "shell.execute_reply": "2024-12-02T20:25:26.925959Z"
    }
   },
   "outputs": [],
   "source": [
    "mean_vel_disp_sph_all = np.mean(vel_disp_sph_all)\n",
    "\n",
    "def percent_err(x, x_ref):\n",
    "    return (x - x_ref) / x_ref * 100"
   ]
  },
  {
   "cell_type": "code",
   "execution_count": 9,
   "metadata": {
    "execution": {
     "iopub.execute_input": "2024-12-02T20:25:26.927906Z",
     "iopub.status.busy": "2024-12-02T20:25:26.927732Z",
     "iopub.status.idle": "2024-12-02T20:25:27.098104Z",
     "shell.execute_reply": "2024-12-02T20:25:27.097646Z"
    }
   },
   "outputs": [
    {
     "data": {
      "image/png": "[encoded data removed]",
      "text/plain": [
       "<Figure size 640x480 with 1 Axes>"
      ]
     },
     "metadata": {},
     "output_type": "display_data"
    },
    {
     "name": "stdout",
     "output_type": "stream",
     "text": [
      "-2.7028192756890554\n"
     ]
    }
   ],
   "source": [
    "plt.figure()\n",
    "plt.hist(sigma_e_data, density=True, lw=2, histtype='step', label = 'mock data', bins=20, color=clist[0])\n",
    "plt.hist(vel_disp_sph_all, density=True, lw=2, histtype='step', label = 'spherical recovery', bins=20, color=clist[2])\n",
    "\n",
    "plt.axvline(mean_sigma_e_data, ls = '--', color = clist[0], marker = ' ', label = 'mean, data')\n",
    "plt.axvline(mean_vel_disp_sph_all, ls = '--', color = clist[2], marker = ' ', label = 'mean, spherical')\n",
    "\n",
    "plt.xlabel(r'$\\sigma^P$ [km/s]')\n",
    "plt.ylabel('PDF')\n",
    "plt.legend()\n",
    "plt.show()\n",
    "\n",
    "print(percent_err(mean_vel_disp_sph_all, mean_sigma_e_data))"
   ]
  },
  {
   "cell_type": "markdown",
   "metadata": {},
   "source": [
    "## Test deprojected mass distribution"
   ]
  },
  {
   "cell_type": "code",
   "execution_count": 10,
   "metadata": {
    "execution": {
     "iopub.execute_input": "2024-12-02T20:25:27.099891Z",
     "iopub.status.busy": "2024-12-02T20:25:27.099781Z",
     "iopub.status.idle": "2024-12-02T20:25:27.183065Z",
     "shell.execute_reply": "2024-12-02T20:25:27.182484Z"
    }
   },
   "outputs": [
    {
     "data": {
      "image/png": "[encoded data removed]",
      "text/plain": [
       "<Figure size 640x480 with 1 Axes>"
      ]
     },
     "metadata": {},
     "output_type": "display_data"
    }
   ],
   "source": [
    "def total_mass(peak_den, sigma_den, Qobs, distance):\n",
    "    pc = distance*np.pi/0.648\n",
    "    return np.sum(2 * np.pi * peak_den * (sigma_den*pc)**2 * Qobs)\n",
    "\n",
    "total_mass_sph_all = np.zeros_like(sigma_e_data)\n",
    "for i in range(len(total_mass_sph_all)):\n",
    "    total_mass_sph_all[i] = total_mass(peak_den[i], sigma_den_sph[i], 1, distance)\n",
    "\n",
    "total_mass_axi_all = np.zeros_like(sigma_e_data)\n",
    "for i in range(len(total_mass_axi_all)):\n",
    "    total_mass_axi_all[i] = total_mass(peak_den[i], sigma_den[i], qobs_data[i], distance)\n",
    "\n",
    "plt.figure()\n",
    "plt.hist(total_mass_sph_all, density=True, histtype='step', lw=2, label = 'MGE mass, sph', bins=20)\n",
    "plt.hist(total_mass_axi_all, density=True, histtype='step', lw=2, label = 'MGE mass, data', bins=20)\n",
    "plt.axvline(np.mean(total_mass_sph_all), lw=2, ls='--', label = 'mean, sph', color=clist[0], marker = ' ')\n",
    "plt.axvline(np.mean(total_mass_axi_all), lw=2, ls='--', label = 'mean, data', color=clist[1], marker = ' ')\n",
    "plt.xlabel('MGE mass [M_sun]')\n",
    "# plt.xscale('log')\n",
    "plt.ylabel('PDF')\n",
    "plt.legend()\n",
    "plt.show()"
   ]
  }
 ],
 "metadata": {
  "kernelspec": {
   "display_name": "python(koholint)",
   "language": "python",
   "name": "koholint"
  },
  "language_info": {
   "codemirror_mode": {
    "name": "ipython",
    "version": 3
   },
   "file_extension": ".py",
   "mimetype": "text/x-python",
   "name": "python",
   "nbconvert_exporter": "python",
   "pygments_lexer": "ipython3",
   "version": "3.12.2"
  }
 },
 "nbformat": 4,
 "nbformat_minor": 2
}
