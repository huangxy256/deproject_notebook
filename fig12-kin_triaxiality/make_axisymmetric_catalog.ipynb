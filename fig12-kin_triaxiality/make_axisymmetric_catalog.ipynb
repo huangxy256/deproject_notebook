{
 "cells": [
  {
   "cell_type": "markdown",
   "metadata": {},
   "source": [
    "# Modify the triaxial TNG catalog into axisymmetric"
   ]
  },
  {
   "cell_type": "code",
   "execution_count": 1,
   "metadata": {},
   "outputs": [],
   "source": [
    "import numpy as np\n",
    "import pandas as pd\n",
    "from copy import deepcopy\n",
    "import h5py"
   ]
  },
  {
   "cell_type": "markdown",
   "metadata": {},
   "source": [
    "We read in the TNG catalog and modify the sample to be axistymmetric. Take p = b/a, and q = c/a. Then for oblates, we take p' = 1, q' = (1 + p) * q/2. For prolates, we take p' = q' = (q + p)/2."
   ]
  },
  {
   "cell_type": "code",
   "execution_count": 2,
   "metadata": {},
   "outputs": [
    {
     "name": "stderr",
     "output_type": "stream",
     "text": [
      "/tmp/ipykernel_2826151/770265729.py:8: SettingWithCopyWarning: \n",
      "A value is trying to be set on a copy of a slice from a DataFrame.\n",
      "Try using .loc[row_indexer,col_indexer] = value instead\n",
      "\n",
      "See the caveats in the documentation: https://pandas.pydata.org/pandas-docs/stable/user_guide/indexing.html#returning-a-view-versus-a-copy\n",
      "  cat_oblate['zeta_new'] = np.ones(len(cat_oblate))\n",
      "/tmp/ipykernel_2826151/770265729.py:9: SettingWithCopyWarning: \n",
      "A value is trying to be set on a copy of a slice from a DataFrame.\n",
      "Try using .loc[row_indexer,col_indexer] = value instead\n",
      "\n",
      "See the caveats in the documentation: https://pandas.pydata.org/pandas-docs/stable/user_guide/indexing.html#returning-a-view-versus-a-copy\n",
      "  cat_oblate['xi_new'] = (1 + cat_oblate['zeta']) * cat_oblate['xi'] / 2\n",
      "/tmp/ipykernel_2826151/770265729.py:14: SettingWithCopyWarning: \n",
      "A value is trying to be set on a copy of a slice from a DataFrame.\n",
      "Try using .loc[row_indexer,col_indexer] = value instead\n",
      "\n",
      "See the caveats in the documentation: https://pandas.pydata.org/pandas-docs/stable/user_guide/indexing.html#returning-a-view-versus-a-copy\n",
      "  cat_prolate['zeta_new'] = cat_prolate['xi_new'] = (cat_prolate['zeta'] + cat_prolate['xi']) / 2.\n",
      "/tmp/ipykernel_2826151/770265729.py:14: SettingWithCopyWarning: \n",
      "A value is trying to be set on a copy of a slice from a DataFrame.\n",
      "Try using .loc[row_indexer,col_indexer] = value instead\n",
      "\n",
      "See the caveats in the documentation: https://pandas.pydata.org/pandas-docs/stable/user_guide/indexing.html#returning-a-view-versus-a-copy\n",
      "  cat_prolate['zeta_new'] = cat_prolate['xi_new'] = (cat_prolate['zeta'] + cat_prolate['xi']) / 2.\n"
     ]
    }
   ],
   "source": [
    "catalog = pd.read_pickle('../tng_catalog/tng_sigma_shape_cut/tng_50_finite_sigma_shape_cut.pkl')\n",
    "\n",
    "# separate the prolate and oblate sample\n",
    "oblate_mask = np.where(catalog['triaxiality'] <= 0.5, True, False)\n",
    "cat_oblate = catalog.iloc[oblate_mask]\n",
    "cat_prolate = catalog.iloc[~oblate_mask] \n",
    "\n",
    "cat_oblate['zeta_new'] = np.ones(len(cat_oblate))\n",
    "cat_oblate['xi_new'] = (1 + cat_oblate['zeta']) * cat_oblate['xi'] / 2\n",
    "if 0:\n",
    "    cat_oblate.to_pickle('./axisym_tng50_catalog/oblate_tng50.pkl')\n",
    "\n",
    "\n",
    "cat_prolate['zeta_new'] = cat_prolate['xi_new'] = (cat_prolate['zeta'] + cat_prolate['xi']) / 2.\n",
    "if 0:\n",
    "    cat_prolate.to_pickle('./axisym_tng50_catalog/prolate_tng50.pkl')"
   ]
  },
  {
   "cell_type": "code",
   "execution_count": null,
   "metadata": {},
   "outputs": [],
   "source": []
  }
 ],
 "metadata": {
  "kernelspec": {
   "display_name": "python(koholint)",
   "language": "python",
   "name": "koholint"
  },
  "language_info": {
   "codemirror_mode": {
    "name": "ipython",
    "version": 3
   },
   "file_extension": ".py",
   "mimetype": "text/x-python",
   "name": "python",
   "nbconvert_exporter": "python",
   "pygments_lexer": "ipython3",
   "version": "3.12.2"
  }
 },
 "nbformat": 4,
 "nbformat_minor": 2
}
