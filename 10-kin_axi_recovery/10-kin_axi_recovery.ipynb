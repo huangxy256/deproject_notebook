{
 "cells": [
  {
   "cell_type": "markdown",
   "metadata": {},
   "source": [
    "# Recover velocity dispersion from projected MGEs and inclination angle\n",
    "\n",
    "Xiangyu Huang, 2024, Stony Brook"
   ]
  },
  {
   "cell_type": "code",
   "execution_count": null,
   "metadata": {},
   "outputs": [],
   "source": [
    "import numpy as np\n",
    "import matplotlib.pyplot as plt \n",
    "%matplotlib inline\n",
    "import pandas as pd\n",
    "from copy import deepcopy\n",
    "import h5py\n",
    "\n",
    "from cycler import cycler\n",
    "import matplotlib as mpl\n",
    "clist = ['#04B2D9', '#F2B33D', '#F29966', '#F2441D', '#0486C5']\n",
    "mpl.rcParams['axes.prop_cycle'] = cycler(color=clist)\n",
    "import matplotlib.patches as patches\n",
    "\n",
    "from scipy.stats import gaussian_kde\n",
    "\n",
    "from deproject.Util.ellipticity import Axis_ratio2ellipticity, Ellipticity2axis_ratio \n",
    "from deproject.projection_axisymmetric import Projection_axisym\n",
    "from deproject.Util.random_var import Draw_from_pdf\n",
    "\n",
    "from deproject.Cosmo.default_cosmo import get_default_lens_cosmo\n",
    "from jampy.jam_axi_proj import jam_axi_proj\n",
    "from jampy.mge_half_light_isophote import mge_half_light_isophote\n",
    "# from deproject.Kinematics.mge_misc import sum_gaussian_components, plot_mge"
   ]
  },
  {
   "cell_type": "markdown",
   "metadata": {},
   "source": [
    "## Model $i$ vs. $e$ 2d histogram"
   ]
  },
  {
   "cell_type": "code",
   "execution_count": null,
   "metadata": {},
   "outputs": [],
   "source": [
    "oblate = True\n",
    "\n",
    "if oblate:\n",
    "    oblate_name = 'oblate'\n",
    "else:\n",
    "    oblate_name = 'prolate'"
   ]
  },
  {
   "cell_type": "code",
   "execution_count": null,
   "metadata": {},
   "outputs": [],
   "source": [
    "# read catalog for the intrinsic axis ratio\n",
    "cat = pd.read_pickle('../06-make_kin_mock_data/axisym_tng_catalog/{}_catalog.pkl' .format(oblate_name))\n",
    "if oblate:\n",
    "    qintr = cat['xi_new'].values\n",
    "else:\n",
    "    qintr = 1/cat['zeta_new'].values\n",
    "\n",
    "kde = gaussian_kde(qintr)\n",
    "if oblate:\n",
    "    qintr_cdf = np.linspace(0, 1, 150)\n",
    "    qintr_plot = np.linspace(0, 1, 150)\n",
    "else:\n",
    "    qintr_cdf = np.linspace(0, 3, 150)\n",
    "    qintr_plot = np.linspace(0.5, 3, 150)\n",
    "\n",
    "qintr_kde = kde(qintr_cdf)\n",
    "qintr_rm = Draw_from_pdf(qintr_cdf, qintr_kde, 500, bins_hist=15)\n",
    "\n",
    "plt.figure()\n",
    "plt.hist(qintr, color = clist[4], density=True, bins=10, alpha = 0.3, label='original')\n",
    "plt.hist(qintr_rm, histtype='step', lw = 2, density=True, label='drawn from KDE', bins = 20)\n",
    "plt.plot(qintr_plot, kde(qintr_plot), lw = 2, marker = ' ', label = 'Gaussian KDE')\n",
    "plt.xlabel('$q$')\n",
    "plt.ylabel('PDF')\n",
    "plt.legend(loc='best', prop = {'size': 13})\n",
    "plt.show()"
   ]
  },
  {
   "cell_type": "markdown",
   "metadata": {},
   "source": [
    "For a galaxy sample with a certain intrinsic shape distribution, we model the projected ellipticity (1-q)/(1+q) under isotropic inclination angle. "
   ]
  },
  {
   "cell_type": "code",
   "execution_count": null,
   "metadata": {},
   "outputs": [],
   "source": [
    "projection_axisym = Projection_axisym(qintr_rm) \n",
    "\n",
    "eobs_rm, inc_iso_rm = projection_axisym.Eobs_dist_iso_inc(plot_scatter=0, plot_2dhist=0, single_proj=1000, bins_2dhist_plot=[40, 30]) # test \n",
    "\n",
    "plt.figure(figsize = (13, 5))\n",
    "hist, xedges, yedges = np.histogram2d(eobs_rm, np.degrees(inc_iso_rm), bins=30)\n",
    "xcoord, ycoord = np.meshgrid(xedges, yedges)\n",
    "plt.pcolormesh(xcoord, ycoord, hist.T)\n",
    "plt.colorbar(label = 'counts')\n",
    "plt.xticks(np.arange(0, 0.6, 0.1))\n",
    "plt.xlabel('$e$')\n",
    "plt.ylabel('$i$ [deg]')\n",
    "plt.show()"
   ]
  },
  {
   "cell_type": "markdown",
   "metadata": {},
   "source": [
    "From the e vs i 2d histogram, we obtain the conditional distribution $P(i\\vert e)$, where e is the observed ellipticity. "
   ]
  },
  {
   "cell_type": "code",
   "execution_count": null,
   "metadata": {},
   "outputs": [],
   "source": [
    "kwargs_eobs_iso_inc = {'single_proj': 1000, 'plot_2dhist': 0, 'bins_2dhist_plot': [30, 30], 'plot_scatter': 0}\n",
    "\n",
    "e_example = 0.2 # here the observed ellipticity is 0.18\n",
    "bins_2dhist = [60, 30]\n",
    "hist, xedges, yedges = np.histogram2d(eobs_rm, np.degrees(inc_iso_rm), bins=bins_2dhist)\n",
    "bin_ind = np.digitize(e_example, xedges) - 1\n",
    "\n",
    "bins, counts = projection_axisym.Cond_pdf_inc_given_eobs(e_example, plot_1dpdf=0, bins_2dhist=bins_2dhist, normalize=0, **kwargs_eobs_iso_inc, quiet=1)\n",
    "\n",
    "plt.figure()\n",
    "plt.bar(np.degrees(bins[:-1]), counts, align='edge', width=np.diff(np.degrees(bins)), label = r'$P(i \\vert {:.3f} < e < {:.3f})$' .format(xedges[bin_ind], xedges[bin_ind+1]))\n",
    "plt.ylabel('PDF')\n",
    "plt.xlabel('$i$ [deg]')\n",
    "# plt.title(r'$P(i \\vert {:.3f} < e < {:.3f})$' .format(xedges[bin_ind], xedges[bin_ind+1]))\n",
    "plt.legend(prop = {'size': 14}, loc='upper left')\n",
    "plt.show()\n",
    "\n",
    "\n",
    "fig = plt.figure(figsize = (12, 5))\n",
    "ax = fig.add_subplot(111)\n",
    "xcoord, ycoord = np.meshgrid(xedges, yedges)\n",
    "pcm = ax.pcolormesh(xcoord, ycoord, hist.T)\n",
    "pcm.set_edgecolor('face')\n",
    "y_min, y_max = ax.get_ylim()\n",
    "x_min, x_max = ax.get_xlim()\n",
    "plot_width = np.diff(xedges)[0]\n",
    "plot_height = y_max - y_min\n",
    "rect = plt.Rectangle((xedges[bin_ind], y_min), plot_width, plot_height, fill=False, edgecolor='w', linewidth=2)\n",
    "ax.add_patch(rect)\n",
    "cbar = fig.colorbar(pcm, ax=ax, pad=0.01)\n",
    "cbar.set_label('counts')\n",
    "# ax.set_xticks(np.arange(0, 0.6, 0.1))\n",
    "plt.xlabel('$e$')\n",
    "plt.ylabel('$i$ [deg]')\n",
    "\n",
    "# plot a slice of the histogram\n",
    "insert_x0, insert_y0, insert_width, insert_height = 0.35, 10, 0.22, 40\n",
    "insert_ax = ax.inset_axes([insert_x0, insert_y0, insert_width, insert_height], transform=ax.transData)\n",
    "insert_ax.bar(np.degrees(bins[:-1]), counts, align='edge', width=np.diff(np.degrees(bins)), label = r'$P(i \\vert {:.3f} < e < {:.3f})$' .format(xedges[bin_ind], xedges[bin_ind+1]), color='#2f6b8e')\n",
    "# insert_ax.set_xlabel('$i$', c='w')\n",
    "insert_ax.set(xticks=np.arange(0, 90, 20), yticks=[])\n",
    "for spine in insert_ax.spines.values():\n",
    "    spine.set_edgecolor('w')\n",
    "insert_ax.xaxis.label.set_color('w')\n",
    "insert_ax.tick_params(color='w', labelcolor='w', labelsize=12)\n",
    "insert_ax.set_title(r'$P(i \\vert {:.3f} < e < {:.3f})$' .format(xedges[bin_ind], xedges[bin_ind+1]), fontsize = 14, color='w')\n",
    "insert_ax.set_xlim([0, 90])\n",
    "\n",
    "# plot axis connecting the slice and the 1d histogram\n",
    "ax.plot([xedges[bin_ind+1], insert_x0], [y_max, insert_y0 + insert_height], marker = ' ', ls = '-', lw=1, color='w')\n",
    "ax.plot([xedges[bin_ind+1], insert_x0], [y_min, insert_y0], marker = ' ', ls = '-', lw=1, color='w')\n",
    "\n",
    "plt.show()\n",
    "\n",
    "del e_example, bins, counts, hist, xedges, yedges\n"
   ]
  },
  {
   "cell_type": "markdown",
   "metadata": {},
   "source": [
    "## Access mock data "
   ]
  },
  {
   "cell_type": "code",
   "execution_count": null,
   "metadata": {},
   "outputs": [],
   "source": [
    "rerun_calculation = True\n",
    "\n",
    "if not rerun_calculation:\n",
    "    # load saved data\n",
    "    with h5py.File('./kin_recovery_{}.hdf5' .format(oblate_name), 'r') as f:\n",
    "        print(f.keys())\n",
    "        inc_recover_all = f['inc_recover_all'][:]\n",
    "        inc_recover_iso_all = f['inc_recover_iso_all'][:]\n",
    "        vel_disp_all = f['vel_disp_all'][:]\n",
    "        vel_disp_iso_all = f['vel_disp_iso_all'][:]\n",
    "        inc_recover_sel = f['inc_recover_sel'][:]\n",
    "        inc_recover_iso_sel = f['inc_recover_iso_sel'][:]\n",
    "        vel_disp_sel = f['vel_disp_sel'][:]\n",
    "        vel_disp_iso_sel = f['vel_disp_iso_sel'][:]\n"
   ]
  },
  {
   "cell_type": "code",
   "execution_count": null,
   "metadata": {},
   "outputs": [],
   "source": [
    "data = np.load('../06-make_kin_mock_data/kin_mock_data/data_{}.npy' .format(oblate_name))\n",
    "data_copy = deepcopy(data)\n",
    "\n",
    "qobs_data = data_copy[1, :]\n",
    "theta_e_data = data_copy[0, :]\n",
    "inc_data = data_copy[3, :]\n",
    "sigma_e_data = data_copy[2, :]\n",
    "eobs_data = Ellipticity2axis_ratio(qobs_data)\n",
    "print(eobs_data.shape)\n",
    "\n",
    "ind_sel = np.where(theta_e_data >= 0.6)[0]\n",
    "eobs_data_sel = eobs_data[ind_sel]\n",
    "qobs_data_sel = qobs_data[ind_sel]\n",
    "inc_data_sel = inc_data[ind_sel]\n",
    "sigma_e_data_sel = sigma_e_data[ind_sel]\n",
    "print(eobs_data_sel.shape)\n",
    "\n",
    "mean_sigma_e_data = np.mean(sigma_e_data)\n",
    "mean_sigma_e_data_sel = np.mean(sigma_e_data_sel)\n"
   ]
  },
  {
   "cell_type": "code",
   "execution_count": null,
   "metadata": {},
   "outputs": [],
   "source": [
    "# plot data ellipticity\n",
    "plt.figure()\n",
    "plt.hist(eobs_data, bins = 20, label = 'no lensing selection', histtype='step', lw = 2, density=True)\n",
    "plt.hist(eobs_data_sel, bins = 20, label = 'selected', histtype='step', lw = 2, density=True)\n",
    "plt.legend(loc = 'best')\n",
    "plt.xlabel('$e$')\n",
    "plt.ylabel('PDF')\n",
    "plt.show()"
   ]
  },
  {
   "cell_type": "markdown",
   "metadata": {},
   "source": [
    "### Recover inclination angle from $P(i|e)$"
   ]
  },
  {
   "cell_type": "markdown",
   "metadata": {},
   "source": [
    "#### The NO lensing selection sample"
   ]
  },
  {
   "cell_type": "code",
   "execution_count": null,
   "metadata": {},
   "outputs": [],
   "source": [
    "if rerun_calculation:\n",
    "    inc_recover_all = projection_axisym.Recover_inclination(eobs_data, bins_2dhist=[60, 30], single_proj=1000)\n",
    "\n",
    "plt.figure()\n",
    "plt.hist(np.degrees(inc_recover_all), bins=20, label = r'recovered from $P(i\\vert e)$', histtype='step', lw = 2)\n",
    "plt.hist(inc_data, bins = 20, label = 'mock data', histtype='step', lw = 2)\n",
    "plt.xlabel('$i$ [deg]')\n",
    "plt.ylabel('counts')\n",
    "plt.title(r'$i$ sampled from $P(i|e)$, no selection')\n",
    "plt.legend()\n",
    "plt.show()"
   ]
  },
  {
   "cell_type": "markdown",
   "metadata": {},
   "source": [
    "#### The lensing selected sample"
   ]
  },
  {
   "cell_type": "code",
   "execution_count": null,
   "metadata": {},
   "outputs": [],
   "source": [
    "if rerun_calculation:\n",
    "    inc_recover_sel = projection_axisym.Recover_inclination(eobs_data_sel, bins_2dhist=[60, 30], single_proj=1000)\n",
    "\n",
    "plt.figure()\n",
    "plt.hist(np.degrees(inc_recover_sel), bins=20, histtype='step', label = r'recovered from $P(i\\vert e)$', lw = 2)\n",
    "plt.hist(inc_data_sel, bins = 20, histtype='step', label='mock data', lw = 2)\n",
    "plt.xlabel('$i$ [deg]')\n",
    "plt.ylabel('counts')\n",
    "plt.title(r'$i$ sampled from $P(i|e)$, with selection')\n",
    "plt.legend()\n",
    "plt.show()"
   ]
  },
  {
   "cell_type": "markdown",
   "metadata": {},
   "source": [
    "### Recover inclination angle from  isotropic distribution\n",
    "\n",
    "#### The lensing selected sample"
   ]
  },
  {
   "cell_type": "code",
   "execution_count": null,
   "metadata": {},
   "outputs": [],
   "source": [
    "if rerun_calculation:\n",
    "    inc_recover_iso_sel = projection_axisym.Recover_isotropic_inclination(eobs_data_sel)\n",
    "\n",
    "plt.figure()\n",
    "plt.hist(np.degrees(inc_recover_iso_sel), histtype='step', lw = 2, label = 'recovered from isotropic', bins=20)\n",
    "plt.hist(inc_data_sel, bins = 20, histtype='step', label='mock data', lw = 2)\n",
    "plt.xlabel('$i$ [deg]')\n",
    "plt.ylabel('counts')\n",
    "plt.title('inclination drawn from isotropic, selected')\n",
    "plt.legend()\n",
    "plt.show()"
   ]
  },
  {
   "cell_type": "markdown",
   "metadata": {},
   "source": [
    "#### The NO lensing selection sample"
   ]
  },
  {
   "cell_type": "code",
   "execution_count": null,
   "metadata": {},
   "outputs": [],
   "source": [
    "if rerun_calculation:\n",
    "    inc_recover_iso_all = projection_axisym.Recover_isotropic_inclination(eobs_data)\n",
    "\n",
    "plt.figure()\n",
    "plt.hist(np.degrees(inc_recover_iso_all), histtype='step', lw = 2, label = 'recovered from isotropic', bins=20)\n",
    "plt.hist(inc_data, bins = 20, histtype='step', label='mock data', lw = 2)\n",
    "plt.xlabel('$i$ [deg]')\n",
    "plt.ylabel('counts')\n",
    "plt.title('inclination drawn from isotropic, no selection')\n",
    "plt.legend()\n",
    "plt.show()"
   ]
  },
  {
   "cell_type": "markdown",
   "metadata": {},
   "source": [
    "## Recover the kinematics with JAM"
   ]
  },
  {
   "cell_type": "code",
   "execution_count": null,
   "metadata": {},
   "outputs": [],
   "source": [
    "# access projected MGE.\n",
    "with h5py.File('../06-make_kin_mock_data/kin_mock_data/mge_{}.hdf5' .format(oblate_name), 'r') as f:\n",
    "    print(f.keys())\n",
    "    peak_den = f['peak_den'][:]\n",
    "    peak_lum = f['peak_lum'][:]\n",
    "    sigma_den = f['sigma_den'][:]\n",
    "    sigma_lum = f['sigma_lum'][:]\n",
    "\n",
    "peak_den_sel = peak_den[ind_sel]\n",
    "sigma_den_sel = sigma_den[ind_sel]\n",
    "peak_lum_sel = peak_lum[ind_sel]\n",
    "sigma_lum_sel = sigma_lum[ind_sel]"
   ]
  },
  {
   "cell_type": "code",
   "execution_count": null,
   "metadata": {},
   "outputs": [],
   "source": [
    "def get_sigma_e(surf_lum, sigma_lum, qobs_lum, jam, xbin, ybin):\n",
    "    \"\"\"calculate velocity dispersion within the half-light radius from a jam model\n",
    "\n",
    "    Args:\n",
    "        surf_lum (_type_): peak of surface luminosity MGE \n",
    "        sigma_lum (_type_): sigma of surface luminocity MGE\n",
    "        qobs_lum (_type_): array of the projected axis raio of the surface luminosity MGEs\n",
    "        jam (_type_): jam model, a jampy.jam_axi_proj instance\n",
    "        xbin (_type_): x coordinate to sample the velocity dispersion\n",
    "        ybin (_type_): y coordinate to sample the velocity dispersion\n",
    "        plot_velmap (int, optional): whether to plot the velocity dispersion map. Defaults to 0.\n",
    "        plot_sample_points (int, optional): whether to plot the xy coordinates within the half-light radius. Defaults to 0.\n",
    "        fignum (int, optional): _description_. Defaults to 1.\n",
    "\n",
    "    Raises:\n",
    "        ValueError: _description_\n",
    "\n",
    "    Returns:\n",
    "        _type_: _description_\n",
    "    \"\"\"\n",
    "    ifu_dim = int(np.sqrt(len(xbin)))\n",
    "    if np.all(qobs_lum <= 1):\n",
    "        flux = jam.flux\n",
    "        reff, reff_maj, eps_e, lum_tot = mge_half_light_isophote(surf_lum, sigma_lum, qobs_lum)\n",
    "    elif np.all(qobs_lum > 1):\n",
    "        flux = np.reshape(jam.flux, (ifu_dim, ifu_dim)).T  # for prolate rotate the flux map by 90 degrees to calculate the half-light radius\n",
    "        flux = flux.flatten() \n",
    "        reff, reff_maj, eps_e, lum_tot = mge_half_light_isophote(surf_lum, sigma_lum, 1/qobs_lum)\n",
    "    else:\n",
    "        raise ValueError('Apparent axis ratio must be constant with radius!')\n",
    "\n",
    "    w = xbin**2 + (ybin/(1 - eps_e))**2 < reff_maj**2\n",
    "\n",
    "    model = jam.model\n",
    "\n",
    "    sig_e = np.sqrt((flux[w]*model[w]**2).sum()/flux[w].sum())\n",
    "\n",
    "    return sig_e"
   ]
  },
  {
   "cell_type": "code",
   "execution_count": null,
   "metadata": {},
   "outputs": [],
   "source": [
    "lens_cosmo = get_default_lens_cosmo()\n",
    "distance = lens_cosmo.Dd"
   ]
  },
  {
   "cell_type": "code",
   "execution_count": null,
   "metadata": {},
   "outputs": [],
   "source": [
    "def recover_vel_disp(peak_lum, sigma_lum, qobs_lum, peak_den, sigma_den, qobs_den, inclination, distance):\n",
    "    \"\"\"recover velocity dispersion from projected MGE components of the light and the mass\n",
    "\n",
    "    Args:\n",
    "        peak_lum (_type_): amplitude of the MGE describing the luminosity profile\n",
    "        sigma_lum (_type_): dispersion of the MGE describing the luminosity profile\n",
    "        qobs_lum (_type_): projected axis ratio of the MGE describing the luminosity profile\n",
    "        peak_den (_type_): amplitude of the MGE describing the density profile\n",
    "        sigma_den (_type_): dispersion of the MGE describing the density profile\n",
    "        qobs_den (_type_): projected axis ratio of the MGE describing the density profile\n",
    "        inclination (_type_): inclination angle\n",
    "        distance (_type_): angular diameter distance to the system [Mpc]\n",
    "\n",
    "    Returns:\n",
    "        _type_: recovered velocity dispersion [km/s]\n",
    "    \"\"\"\n",
    "    vel_disp = np.zeros(len(peak_den))\n",
    "    inc_deg = np.degrees(inclination)\n",
    "    for i in range(len(peak_den)):\n",
    "        peak_lum_i = peak_lum[i]\n",
    "        sigma_lum_i = sigma_lum[i]\n",
    "        peak_den_i = peak_den[i]\n",
    "        sigma_den_i = sigma_den[i]\n",
    "        qobs_lum_i = qobs_lum[i]\n",
    "        qobs_den_i = qobs_den[i]\n",
    "        beta = np.zeros_like(peak_lum_i) # isotropic anisotropy\n",
    "\n",
    "        if qobs_lum_i > 1:\n",
    "            qobs_lum_i_apparent = 1 / qobs_lum_i # for Q>1, take the inverse to calculate reff\n",
    "        else:\n",
    "            qobs_lum_i_apparent = qobs_lum_i\n",
    "\n",
    "        # set up a grid to perform jam \n",
    "        reff = mge_half_light_isophote(peak_lum_i, sigma_lum_i, np.full_like(peak_lum_i, qobs_lum_i_apparent))[0]\n",
    "        xx = np.linspace(-2.5 * reff, 2.5 * reff, 100)  # avoid (x,y)=(0,0)\n",
    "        xbin, ybin = map(np.ravel, np.meshgrid(xx, xx))\n",
    "\n",
    "        # run jam\n",
    "        jam = jam_axi_proj(peak_lum_i, sigma_lum_i, np.full_like(peak_lum_i, qobs_lum_i), peak_den_i, sigma_den_i, np.full_like(peak_den_i, qobs_den_i), inc_deg[i], 0, distance, xbin, ybin, plot=0, beta=beta, align='sph')\n",
    "        # compute sigma_e\n",
    "        sigma_e = get_sigma_e(peak_lum_i, sigma_lum_i, np.full_like(peak_lum_i, qobs_lum_i), jam, xbin, ybin)\n",
    "        vel_disp[i] = sigma_e\n",
    "        print(f\"sigma_e: {sigma_e:.2f} km/s\")\n",
    "\n",
    "    return vel_disp"
   ]
  },
  {
   "cell_type": "code",
   "execution_count": null,
   "metadata": {},
   "outputs": [],
   "source": [
    "def percent_diff(a, b):\n",
    "    return np.abs(a-b) / np.mean([a, b]) * 100"
   ]
  },
  {
   "cell_type": "markdown",
   "metadata": {},
   "source": [
    "### With inclination angle recovered from $P(i|e$)\n",
    "#### The lensing selected sample"
   ]
  },
  {
   "cell_type": "code",
   "execution_count": null,
   "metadata": {},
   "outputs": [],
   "source": [
    "if rerun_calculation:\n",
    "    vel_disp_sel = recover_vel_disp(peak_lum_sel, sigma_lum_sel, qobs_data_sel, peak_den_sel, sigma_den_sel, qobs_data_sel, inc_recover_sel, distance)\n",
    "mean_vel_disp_sel = np.mean(vel_disp_sel)\n",
    "\n",
    "plt.figure()\n",
    "plt.hist(vel_disp_sel, histtype='step', lw = 2, label = r'recovered from $P(i\\vert e)$', bins=20)\n",
    "plt.hist(sigma_e_data_sel, histtype='step', lw = 2, label = 'mock data', bins=20)\n",
    "ax = plt.gca()\n",
    "plt.axvline(mean_vel_disp_sel, marker = ' ', ls = '--', label = r'mean, recovered', color = clist[0], lw=3)\n",
    "plt.axvline(mean_sigma_e_data_sel, marker = ' ', ls = '--', label = 'mean, mock data', color = clist[1])\n",
    "plt.xlabel(r'$\\sigma^P$ [km/s]')\n",
    "plt.ylabel('counts')\n",
    "plt.title(r'$\\sigma^P$ recovered from $P(i|e)$, lensing selected')\n",
    "plt.legend(prop = {'size': 13})\n",
    "plt.show()\n",
    "\n",
    "print(percent_diff(mean_sigma_e_data_sel, mean_vel_disp_sel), '%')"
   ]
  },
  {
   "cell_type": "markdown",
   "metadata": {},
   "source": [
    "#### The NO lensing selected sample"
   ]
  },
  {
   "cell_type": "code",
   "execution_count": null,
   "metadata": {},
   "outputs": [],
   "source": [
    "if rerun_calculation:\n",
    "    vel_disp_all = recover_vel_disp(peak_lum, sigma_lum, qobs_data, peak_den, sigma_den, qobs_data, inc_recover_all, distance) \n",
    "mean_vel_disp_no_sel = np.mean(vel_disp_all)\n",
    "\n",
    "plt.figure()\n",
    "plt.hist(vel_disp_all, histtype='step', lw = 2, label = r'recovered from $P(i\\vert e)$', bins=20)\n",
    "plt.hist(sigma_e_data, histtype='step', lw = 2, label = 'mock data', bins=20)\n",
    "plt.axvline(mean_vel_disp_no_sel, marker = ' ', ls = '--', label = 'mean, recovered', color = clist[0], lw=3)\n",
    "plt.axvline(mean_sigma_e_data, marker = ' ', ls = '--', label = 'mean, mock data', color = clist[1])\n",
    "plt.xlabel(r'$\\sigma^P$ [km/s]')\n",
    "plt.ylabel('counts')\n",
    "plt.title(r'$\\sigma^P$ recovered from $P(i|e)$, no selection')\n",
    "plt.legend(prop = {'size': 13})\n",
    "plt.show()\n",
    "\n",
    "print(percent_diff(mean_sigma_e_data, mean_vel_disp_no_sel), '%')"
   ]
  },
  {
   "cell_type": "markdown",
   "metadata": {},
   "source": [
    "### With inclination angle recovered from isotropic\n",
    "\n",
    "#### The lensing selected sample"
   ]
  },
  {
   "cell_type": "code",
   "execution_count": null,
   "metadata": {},
   "outputs": [],
   "source": [
    "if rerun_calculation:\n",
    "    vel_disp_iso_sel = recover_vel_disp(peak_lum_sel, sigma_lum_sel, qobs_data_sel, peak_den_sel, sigma_den_sel, qobs_data_sel, inc_recover_iso_sel, distance)\n",
    "mean_vel_disp_isoinc = np.mean(vel_disp_iso_sel)\n",
    "\n",
    "plt.figure()\n",
    "plt.hist(vel_disp_iso_sel, histtype='step', lw = 2, label = 'recovered from isotropic', bins=20)\n",
    "plt.hist(sigma_e_data_sel, histtype='step', lw = 2, label = 'mock data', bins=20)\n",
    "plt.axvline(mean_vel_disp_isoinc, marker = ' ', ls = '--', label = 'mean, recovered', color = clist[0], lw=3)\n",
    "plt.axvline(mean_sigma_e_data_sel, marker = ' ', ls = '--', label = 'mean, mock data', color = clist[1])\n",
    "plt.xlabel(r'$\\sigma^P$ [km/s]')\n",
    "plt.ylabel('counts')\n",
    "plt.title(r'$\\sigma^P$ recovered from isotropic, selected')\n",
    "plt.legend(prop = {'size': 13})\n",
    "plt.show()\n",
    "\n",
    "print(percent_diff(mean_sigma_e_data_sel, mean_vel_disp_isoinc), '%')"
   ]
  },
  {
   "cell_type": "markdown",
   "metadata": {},
   "source": [
    "#### The NO lensing selection sample"
   ]
  },
  {
   "cell_type": "code",
   "execution_count": null,
   "metadata": {},
   "outputs": [],
   "source": [
    "if rerun_calculation:\n",
    "    vel_disp_iso_all = recover_vel_disp(peak_lum, sigma_lum, qobs_data, peak_den, sigma_den, qobs_data, inc_recover_iso_all, distance)\n",
    "mean_vel_disp_isoinc_no_sel = np.mean(vel_disp_iso_all)\n",
    "\n",
    "plt.figure()\n",
    "plt.hist(vel_disp_iso_all, histtype='step', lw = 2, label = 'recovered from isotropic', bins=20)\n",
    "plt.hist(sigma_e_data, histtype='step', lw = 2, label = 'mock data', bins=20)\n",
    "plt.axvline(mean_vel_disp_isoinc_no_sel, marker = ' ', ls = '--', label = 'mean, recovered', color = clist[0], lw=3)\n",
    "plt.axvline(mean_sigma_e_data, marker = ' ', ls = '--', label = 'mean, mock data', color = clist[1])\n",
    "plt.xlabel(r'$\\sigma^P$ [km/s]')\n",
    "plt.ylabel('counts')\n",
    "plt.title(r'$\\sigma^P$ recovered from isotropic, no selection')\n",
    "plt.legend(prop = {'size': 13})\n",
    "plt.show()\n",
    "\n",
    "print(percent_diff(mean_sigma_e_data, mean_vel_disp_isoinc_no_sel), '%')"
   ]
  },
  {
   "cell_type": "markdown",
   "metadata": {},
   "source": [
    "## save data"
   ]
  },
  {
   "cell_type": "code",
   "execution_count": null,
   "metadata": {},
   "outputs": [],
   "source": [
    "with h5py.File('./kin_recovery_{}.hdf5' .format(oblate_name), 'w') as f:\n",
    "    f.create_dataset(name='inc_recover_all', data = inc_recover_all)\n",
    "    f.create_dataset(name='inc_recover_iso_all', data = inc_recover_iso_all)\n",
    "    f.create_dataset(name='vel_disp_all', data = vel_disp_all)\n",
    "    f.create_dataset(name='vel_disp_iso_all', data = vel_disp_iso_all)\n",
    "    f.create_dataset(name='inc_recover_sel', data = inc_recover_sel)\n",
    "    f.create_dataset(name='inc_recover_iso_sel', data = inc_recover_iso_sel)\n",
    "    f.create_dataset(name='vel_disp_sel', data = vel_disp_sel)\n",
    "    f.create_dataset(name='vel_disp_iso_sel', data = vel_disp_iso_sel)"
   ]
  },
  {
   "cell_type": "markdown",
   "metadata": {},
   "source": [
    "## Plot the recovered inclination angle and sigma together"
   ]
  },
  {
   "cell_type": "code",
   "execution_count": null,
   "metadata": {},
   "outputs": [],
   "source": [
    "def percent_err(x, x_ref):\n",
    "    return (x - x_ref) / x_ref * 100"
   ]
  },
  {
   "cell_type": "code",
   "execution_count": null,
   "metadata": {},
   "outputs": [],
   "source": [
    "# Create a figure and a grid of subplots\n",
    "fig = plt.figure(figsize = (14, 10))\n",
    "gs = fig.add_gridspec(2, 2, hspace=0.04, wspace = 0.17)\n",
    "axs = gs.subplots(sharex='col')\n",
    "\n",
    "color_pie = clist[0]\n",
    "color_iso = 'lightsalmon'\n",
    "color_data = clist[2]\n",
    "\n",
    "lw_hist = 2.5\n",
    "\n",
    "# plot the (0, 0) subplot\n",
    "axs[0, 0].hist(np.degrees(inc_recover_all), bins=20, label = r'recovered from $P(i\\vert e)$', histtype='step', lw = lw_hist, density=True, color=color_pie)\n",
    "axs[0, 0].hist(np.degrees(inc_recover_iso_all), bins=20, label = 'recovered from isotropic', histtype='step', lw = lw_hist, density=True, color=color_iso)\n",
    "axs[0, 0].hist(inc_data, bins = 20, label = 'mock data', alpha = 0.25, density=True, color=color_data)\n",
    "# set labels\n",
    "axs[0, 0].set_xlabel('$i$ [deg]')\n",
    "axs[0, 0].set_ylabel('PDF')\n",
    "axs[0, 0].label_outer()\n",
    "# axs[0, 0].sharey(axs[1, 0])\n",
    "axs[0, 0].set_yticks(np.arange(0, 0.04, 0.01))\n",
    "axs[0, 0].set_title('inclination angle $i$', fontsize=24)\n",
    "# axs[0, 0].text(-45, 0.017, 'No \\n selection', horizontalalignment='center', verticalalignment='center', fontsize=26)\n",
    "\n",
    "# plot the (0, 1) subplot\n",
    "axs[0, 1].hist(vel_disp_all, histtype='step', lw = lw_hist, label = r'recovered from $P(i\\vert e)$', bins=20, density=True, color=color_pie)\n",
    "axs[0, 1].hist(vel_disp_iso_all, histtype='step', lw = lw_hist, label = 'recovered from isotropic', bins=20, density=True, color=color_iso)\n",
    "axs[0, 1].hist(sigma_e_data, alpha = 0.25, label = 'mock data', bins=20, density=True, color=color_data)\n",
    "# plot the mean values\n",
    "axs[0, 1].axvline(mean_sigma_e_data, marker = ' ', ls = '-', label = 'mean, mock data', color = color_data, lw=lw_hist)\n",
    "axs[0, 1].axvline(mean_vel_disp_no_sel, marker = ' ', ls = '--', label = r'mean, recovered from $P(i\\vert e)$', color = color_pie, lw=lw_hist)\n",
    "axs[0, 1].axvline(mean_vel_disp_isoinc_no_sel, marker = ' ', ls = '--', label = 'mean, recovered from isotropic', color = color_iso, lw=lw_hist)\n",
    "# set labels\n",
    "# axs[0, 1].set_ylabel('PDF')\n",
    "# axs[0, 1].sharey(axs[1, 1])\n",
    "axs[0, 1].set_yticks(np.arange(0, 0.025, 0.005))\n",
    "axs[0, 1].set_title(r'velocity dispersion $\\sigma^P$', fontsize=24)\n",
    "axs[0, 1].text(0.37, 0.7, s = r'% Err$_{P(i\\vert e)}$'+' = {:.3f} %' .format(percent_err(mean_vel_disp_no_sel, mean_sigma_e_data)) +'\\n' + r'% Err$_{iso}$'+' = {:.3f} %' .format(percent_err(mean_vel_disp_isoinc_no_sel, mean_sigma_e_data)), fontsize=16, transform = axs[0, 1].transAxes)\n",
    "\n",
    "# plot the (1, 0) subplot\n",
    "axs[1, 0].hist(np.degrees(inc_recover_sel), bins=20, histtype='step', label = r'recovered from $P(i\\vert e)$', lw = lw_hist, density=True, color = color_pie)\n",
    "axs[1, 0].hist(np.degrees(inc_recover_iso_sel), bins=20, histtype='step', label = 'recovered from isotropic', lw = lw_hist, density=True, color=color_iso)\n",
    "axs[1, 0].hist(inc_data_sel, bins = 20, label='mock data', alpha = 0.25, density=True, color = color_data)\n",
    "# set labels\n",
    "axs[1, 0].set_xlabel('$i$ [deg]')\n",
    "axs[1, 0].set_ylabel('PDF')\n",
    "axs[1, 0].label_outer()\n",
    "axs[1, 0].set_yticks(np.arange(0, 0.05, 0.01))\n",
    "# axs[1, 0].text(-45, 0.017, 'With \\n selection', horizontalalignment='center', verticalalignment='center', fontsize=26)\n",
    "\n",
    "\n",
    "# plot the (1, 1) subplot\n",
    "axs[1, 1].hist(vel_disp_sel, histtype='step', lw = lw_hist, label = r'recovered from $P(i\\vert e)$', bins=20, density=True, color=color_pie)\n",
    "axs[1, 1].hist(vel_disp_iso_sel, histtype='step', lw = lw_hist, label = 'recovered from isotropic', bins=20, density=True, color=color_iso)\n",
    "axs[1, 1].hist(sigma_e_data_sel, alpha = 0.25, label = 'mock data', bins=20, density=True, color=color_data)\n",
    "# plot the mean values\n",
    "axs[1, 1].axvline(mean_sigma_e_data_sel, marker = ' ', ls = '-', label = 'mean, mock data', color=color_data, lw=lw_hist)\n",
    "axs[1, 1].axvline(mean_vel_disp_sel, marker = ' ', ls = '--', label = r'mean, recovered from $P(i\\vert e)$', color = color_pie, lw=lw_hist)\n",
    "axs[1, 1].axvline(mean_vel_disp_isoinc, marker = ' ', ls = '--', label = 'mean, recovered from isotropic', color = color_iso, lw=lw_hist)\n",
    "# set label\n",
    "axs[1, 1].set_xlabel(r'$\\sigma^P$ [km/s]')\n",
    "axs[1, 1].set_yticks(np.arange(0, 0.04, 0.01))\n",
    "# axs[1, 1].set_ylabel('PDF')\n",
    "# annotate percent error\n",
    "axs[1, 1].text(0.52, 0.7, s = r'% Err$_{P(i\\vert e)}$'+' = {:.3f} %' .format(percent_err(mean_vel_disp_sel, mean_sigma_e_data_sel)) +'\\n' + r'% Err$_{iso}$'+' = {:.3f} %' .format(percent_err(mean_vel_disp_isoinc, mean_sigma_e_data_sel)), fontsize=16, transform = axs[1, 1].transAxes)\n",
    "\n",
    "# Adjust layout to prevent overlapping titles\n",
    "plt.tight_layout()\n",
    "\n",
    "# adjust axis label size\n",
    "for ax in axs.flatten():\n",
    "    ax.xaxis.label.set(fontsize=20)\n",
    "    ax.yaxis.label.set(fontsize=20)\n",
    "    ax.tick_params(axis='both', labelsize = 15)\n",
    "\n",
    "# plot some dummy plots for legend making\n",
    "dummy_labels = []\n",
    "dummy_labels.append(patches.Patch(edgecolor='none', facecolor=color_data, label='mock data', alpha = 0.25))\n",
    "dummy_labels.append(patches.Patch(edgecolor=color_pie, facecolor='none', label=r'recovered from $P(i\\vert e)$', lw=lw_hist))\n",
    "dummy_labels.append(patches.Patch(edgecolor=color_iso, facecolor='none', label='recovered from isotropic', lw=lw_hist))\n",
    "dummy_labels.append(axs[1, 1].plot([], [], marker = ' ', ls = '-', label = 'mean, mock data', color = color_data, lw=lw_hist)[0])\n",
    "dummy_labels.append(axs[1, 1].plot([], [], marker = ' ', ls = '--', label = r'mean, recovered from $P(i\\vert e)$', color = color_pie, lw=lw_hist)[0])\n",
    "dummy_labels.append(axs[1, 1].plot([], [], marker = ' ', ls = '--', label = 'mean, recovered from isotropic', color = color_iso, lw=lw_hist)[0])\n",
    "\n",
    "fig.legend(handles=dummy_labels, loc='lower center', bbox_to_anchor=(0.5, -0.11), ncol=2, fontsize=18)\n",
    "\n",
    "# annotate the with or without lensing selection\n",
    "props = dict(boxstyle = 'square', facecolor = 'lightgray', alpha = 0.3, edgecolor = 'None')\n",
    "for ax in axs[0]:\n",
    "    ax.text(0.04, 0.89, 'all', transform = ax.transAxes, fontsize = 18, bbox=props)\n",
    "for ax in axs[1]:\n",
    "    ax.text(0.04, 0.89, 'selected', transform = ax.transAxes, fontsize = 18, bbox=props)\n",
    "\n",
    "plt.show()"
   ]
  },
  {
   "cell_type": "code",
   "execution_count": null,
   "metadata": {},
   "outputs": [],
   "source": []
  }
 ],
 "metadata": {
  "kernelspec": {
   "display_name": "python(koholint)",
   "language": "python",
   "name": "koholint"
  },
  "language_info": {
   "codemirror_mode": {
    "name": "ipython",
    "version": 3
   },
   "file_extension": ".py",
   "mimetype": "text/x-python",
   "name": "python",
   "nbconvert_exporter": "python",
   "pygments_lexer": "ipython3",
   "version": "3.12.2"
  }
 },
 "nbformat": 4,
 "nbformat_minor": 2
}
