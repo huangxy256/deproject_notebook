{
 "cells": [
  {
   "cell_type": "markdown",
   "metadata": {},
   "source": [
    "# Triaxial $\\theta_E$ VS spherical $\\theta_E$ for a selected sample from the TNG100 simulation\n",
    "\n",
    "Data: a selected sample from the TNG100 catalog and a selected sample from the TNG50 catalog."
   ]
  },
  {
   "cell_type": "code",
   "execution_count": 1,
   "metadata": {
    "execution": {
     "iopub.execute_input": "2024-11-24T19:27:39.011849Z",
     "iopub.status.busy": "2024-11-24T19:27:39.011321Z",
     "iopub.status.idle": "2024-11-24T19:27:39.418005Z",
     "shell.execute_reply": "2024-11-24T19:27:39.417679Z"
    }
   },
   "outputs": [],
   "source": [
    "import pandas as pd \n",
    "import numpy as np \n",
    "from copy import deepcopy"
   ]
  },
  {
   "cell_type": "code",
   "execution_count": 2,
   "metadata": {
    "execution": {
     "iopub.execute_input": "2024-11-24T19:27:39.420083Z",
     "iopub.status.busy": "2024-11-24T19:27:39.419782Z",
     "iopub.status.idle": "2024-11-24T19:27:39.429310Z",
     "shell.execute_reply": "2024-11-24T19:27:39.429035Z"
    }
   },
   "outputs": [
    {
     "data": {
      "text/html": [
       "<div>\n",
       "<style scoped>\n",
       "    .dataframe tbody tr th:only-of-type {\n",
       "        vertical-align: middle;\n",
       "    }\n",
       "\n",
       "    .dataframe tbody tr th {\n",
       "        vertical-align: top;\n",
       "    }\n",
       "\n",
       "    .dataframe thead th {\n",
       "        text-align: right;\n",
       "    }\n",
       "</style>\n",
       "<table border=\"1\" class=\"dataframe\">\n",
       "  <thead>\n",
       "    <tr style=\"text-align: right;\">\n",
       "      <th></th>\n",
       "      <th>sigma_random_los</th>\n",
       "      <th>Re</th>\n",
       "      <th>halo_id</th>\n",
       "      <th>zeta</th>\n",
       "      <th>xi</th>\n",
       "      <th>triaxiality</th>\n",
       "    </tr>\n",
       "  </thead>\n",
       "  <tbody>\n",
       "    <tr>\n",
       "      <th>0</th>\n",
       "      <td>198.717830</td>\n",
       "      <td>20.744231</td>\n",
       "      <td>1</td>\n",
       "      <td>0.816780</td>\n",
       "      <td>0.557836</td>\n",
       "      <td>0.483248</td>\n",
       "    </tr>\n",
       "    <tr>\n",
       "      <th>1</th>\n",
       "      <td>154.372133</td>\n",
       "      <td>8.852646</td>\n",
       "      <td>5</td>\n",
       "      <td>0.911836</td>\n",
       "      <td>0.531326</td>\n",
       "      <td>0.234857</td>\n",
       "    </tr>\n",
       "    <tr>\n",
       "      <th>2</th>\n",
       "      <td>202.764653</td>\n",
       "      <td>8.902069</td>\n",
       "      <td>6</td>\n",
       "      <td>0.870733</td>\n",
       "      <td>0.533219</td>\n",
       "      <td>0.337894</td>\n",
       "    </tr>\n",
       "    <tr>\n",
       "      <th>3</th>\n",
       "      <td>173.246111</td>\n",
       "      <td>6.141364</td>\n",
       "      <td>7</td>\n",
       "      <td>0.686777</td>\n",
       "      <td>0.606838</td>\n",
       "      <td>0.836311</td>\n",
       "    </tr>\n",
       "    <tr>\n",
       "      <th>5</th>\n",
       "      <td>160.809888</td>\n",
       "      <td>8.653671</td>\n",
       "      <td>9</td>\n",
       "      <td>0.853668</td>\n",
       "      <td>0.570757</td>\n",
       "      <td>0.402309</td>\n",
       "    </tr>\n",
       "    <tr>\n",
       "      <th>...</th>\n",
       "      <td>...</td>\n",
       "      <td>...</td>\n",
       "      <td>...</td>\n",
       "      <td>...</td>\n",
       "      <td>...</td>\n",
       "      <td>...</td>\n",
       "    </tr>\n",
       "    <tr>\n",
       "      <th>2048</th>\n",
       "      <td>151.884294</td>\n",
       "      <td>4.356955</td>\n",
       "      <td>60743</td>\n",
       "      <td>0.604044</td>\n",
       "      <td>0.468143</td>\n",
       "      <td>0.813391</td>\n",
       "    </tr>\n",
       "    <tr>\n",
       "      <th>2057</th>\n",
       "      <td>179.240207</td>\n",
       "      <td>11.454192</td>\n",
       "      <td>233214</td>\n",
       "      <td>0.921951</td>\n",
       "      <td>0.485322</td>\n",
       "      <td>0.196225</td>\n",
       "    </tr>\n",
       "    <tr>\n",
       "      <th>2059</th>\n",
       "      <td>170.711043</td>\n",
       "      <td>11.915249</td>\n",
       "      <td>255614</td>\n",
       "      <td>0.885115</td>\n",
       "      <td>0.326100</td>\n",
       "      <td>0.242342</td>\n",
       "    </tr>\n",
       "    <tr>\n",
       "      <th>2060</th>\n",
       "      <td>206.136011</td>\n",
       "      <td>13.277669</td>\n",
       "      <td>265267</td>\n",
       "      <td>0.864603</td>\n",
       "      <td>0.537626</td>\n",
       "      <td>0.355100</td>\n",
       "    </tr>\n",
       "    <tr>\n",
       "      <th>2064</th>\n",
       "      <td>175.791865</td>\n",
       "      <td>8.462170</td>\n",
       "      <td>321674</td>\n",
       "      <td>0.798110</td>\n",
       "      <td>0.404893</td>\n",
       "      <td>0.434203</td>\n",
       "    </tr>\n",
       "  </tbody>\n",
       "</table>\n",
       "<p>191 rows × 6 columns</p>\n",
       "</div>"
      ],
      "text/plain": [
       "      sigma_random_los         Re  halo_id      zeta        xi  triaxiality\n",
       "0           198.717830  20.744231        1  0.816780  0.557836     0.483248\n",
       "1           154.372133   8.852646        5  0.911836  0.531326     0.234857\n",
       "2           202.764653   8.902069        6  0.870733  0.533219     0.337894\n",
       "3           173.246111   6.141364        7  0.686777  0.606838     0.836311\n",
       "5           160.809888   8.653671        9  0.853668  0.570757     0.402309\n",
       "...                ...        ...      ...       ...       ...          ...\n",
       "2048        151.884294   4.356955    60743  0.604044  0.468143     0.813391\n",
       "2057        179.240207  11.454192   233214  0.921951  0.485322     0.196225\n",
       "2059        170.711043  11.915249   255614  0.885115  0.326100     0.242342\n",
       "2060        206.136011  13.277669   265267  0.864603  0.537626     0.355100\n",
       "2064        175.791865   8.462170   321674  0.798110  0.404893     0.434203\n",
       "\n",
       "[191 rows x 6 columns]"
      ]
     },
     "execution_count": 2,
     "metadata": {},
     "output_type": "execute_result"
    }
   ],
   "source": [
    "cat100 = pd.read_pickle('../tng_catalog/tng_sigma_shape_cut/tng_100_finite_sigma_shape_cut.pkl')\n",
    "cat100"
   ]
  },
  {
   "cell_type": "code",
   "execution_count": 3,
   "metadata": {
    "execution": {
     "iopub.execute_input": "2024-11-24T19:27:39.457404Z",
     "iopub.status.busy": "2024-11-24T19:27:39.457173Z",
     "iopub.status.idle": "2024-11-24T19:27:39.907464Z",
     "shell.execute_reply": "2024-11-24T19:27:39.906996Z"
    }
   },
   "outputs": [],
   "source": [
    "from lenstronomy.Analysis.lens_profile import LensProfileAnalysis\n",
    "from deproject.projection import Projection\n",
    "from deproject.Profiles.SIS_truncated_angular import SIS_truncated_angular\n",
    "from deproject.Util.orientation import Sphere_random_point\n",
    "from deproject.Cosmo.default_cosmo import get_default_lens_cosmo"
   ]
  },
  {
   "cell_type": "code",
   "execution_count": 4,
   "metadata": {
    "execution": {
     "iopub.execute_input": "2024-11-24T19:27:39.909553Z",
     "iopub.status.busy": "2024-11-24T19:27:39.909418Z",
     "iopub.status.idle": "2024-11-24T19:27:39.912136Z",
     "shell.execute_reply": "2024-11-24T19:27:39.911835Z"
    }
   },
   "outputs": [],
   "source": [
    "# separate the prolate and oblate sample\n",
    "oblate_mask = np.where(cat100['triaxiality'] <= 0.5, True, False)\n",
    "cat_oblate = cat100.iloc[oblate_mask]\n",
    "cat_prolate = cat100.iloc[~oblate_mask] "
   ]
  },
  {
   "cell_type": "code",
   "execution_count": 5,
   "metadata": {
    "execution": {
     "iopub.execute_input": "2024-11-24T19:27:39.913710Z",
     "iopub.status.busy": "2024-11-24T19:27:39.913499Z",
     "iopub.status.idle": "2024-11-24T19:27:39.956488Z",
     "shell.execute_reply": "2024-11-24T19:27:39.955578Z"
    }
   },
   "outputs": [],
   "source": [
    "def tng100_rmproj(catalog):\n",
    "    \"\"\"project a sample of galaxies each for several times and calculate the projected observables (Einstein radius, projected ellipticity, and orientation angle)\n",
    "\n",
    "    Args:\n",
    "        catalog (_type_): _description_\n",
    "\n",
    "    Returns:\n",
    "        _type_: _description_\n",
    "    \"\"\"\n",
    "    # define a cosmology\n",
    "    lens_cosmo = get_default_lens_cosmo()\n",
    "    # calculate sigma_crit for kappa profile \n",
    "    sigma_crit = lens_cosmo.Sigma_crit / 1e6 # [M_sun/kpc^2]\n",
    "\n",
    "    # access catalog data\n",
    "    num_halo = len(catalog)\n",
    "    sigma_rm_all = catalog['sigma_random_los'].values\n",
    "    zeta_all = catalog['zeta'].values\n",
    "    xi_all = catalog['xi'].values\n",
    "\n",
    "    # thetaE_rm = lens_cosmo.sis_sigma_v2theta_E(sigma_rm_all)\n",
    "\n",
    "    # each halo project 4 times\n",
    "    times_single_proj = 4\n",
    "    total_iteration = times_single_proj * num_halo\n",
    "\n",
    "    # generate random LoS\n",
    "    theta_all, phi_all = Sphere_random_point(num = total_iteration)\n",
    "\n",
    "    # initialize some empty arrays for lensing observables\n",
    "    thetaE_all = np.zeros(total_iteration)\n",
    "    ellipticity_all = np.zeros(total_iteration)\n",
    "    # sigma_sis_all = np.zeros(total_iteration)\n",
    "\n",
    "    # define radius variables for integration and interpolation\n",
    "    R_int = np.logspace(np.log10(0.0001), np.log10(150), num = 100)\n",
    "    R_interp = np.logspace(np.log10(0.001), np.log10(50), num = 200)\n",
    "\n",
    "    for i, sigma_rm in enumerate(sigma_rm_all):\n",
    "\n",
    "        profile_sis = SIS_truncated_angular(sigma_v = sigma_rm, lens_cosmo = lens_cosmo)\n",
    "\n",
    "        zeta = zeta_all[i]\n",
    "        xi = xi_all[i]\n",
    "\n",
    "        for j in range(times_single_proj):\n",
    "\n",
    "            theta = theta_all[i * times_single_proj + j]\n",
    "            phi = phi_all[i * times_single_proj + j]\n",
    "\n",
    "            projection = Projection(zeta=zeta, xi=xi, theta=theta, phi=phi)\n",
    "\n",
    "            radial_sis = projection.RadialProfile(R=R_int, profile=profile_sis, R_align='average', interpolate=True)\n",
    "            radial_sis = radial_sis(R_interp)\n",
    "\n",
    "            ellipticity_all[i * times_single_proj + j] = projection.Ellipticity()\n",
    "\n",
    "            kappa = radial_sis / sigma_crit\n",
    "            thetaE_all[i * times_single_proj + j] = LensProfileAnalysis.effective_einstein_radius_from_radial_profile(R_interp, kappa)\n",
    "\n",
    "    # compute sigma_sis with einstein radius\n",
    "    # sigma_sis_all = lens_cosmo.sis_theta_E2sigma_v(thetaE_all)\n",
    "\n",
    "    # save data\n",
    "    data_all = np.vstack([np.repeat(sigma_rm_all, times_single_proj), thetaE_all, ellipticity_all, theta_all, phi_all])\n",
    "\n",
    "    return data_all\n"
   ]
  },
  {
   "cell_type": "code",
   "execution_count": 6,
   "metadata": {
    "execution": {
     "iopub.execute_input": "2024-11-24T19:27:39.960352Z",
     "iopub.status.busy": "2024-11-24T19:27:39.959991Z",
     "iopub.status.idle": "2024-11-24T19:48:54.545498Z",
     "shell.execute_reply": "2024-11-24T19:48:54.545146Z"
    }
   },
   "outputs": [],
   "source": [
    "proj_oblate = False\n",
    "if proj_oblate:\n",
    "    data_oblate = tng100_rmproj(cat_oblate)\n",
    "    np.save('./data_tng100_rmproj_oblate.npy', data_oblate)\n",
    "else:\n",
    "    data_oblate = np.load('./data_tng100_rmproj_oblate.npy')"
   ]
  },
  {
   "cell_type": "code",
   "execution_count": 7,
   "metadata": {
    "execution": {
     "iopub.execute_input": "2024-11-24T19:48:54.546983Z",
     "iopub.status.busy": "2024-11-24T19:48:54.546872Z",
     "iopub.status.idle": "2024-11-24T20:30:15.564265Z",
     "shell.execute_reply": "2024-11-24T20:30:15.563907Z"
    }
   },
   "outputs": [],
   "source": [
    "proj_prolate = False\n",
    "if proj_prolate:\n",
    "    data_prolate = tng100_rmproj(cat_prolate)\n",
    "    np.save('./data_tng100_rmproj_prolate.npy', data_prolate)\n",
    "else:\n",
    "    data_prolate = np.load('./data_tng100_rmproj_prolate.npy')"
   ]
  }
 ],
 "metadata": {
  "kernelspec": {
   "display_name": "python(koholint)",
   "language": "python",
   "name": "koholint"
  },
  "language_info": {
   "codemirror_mode": {
    "name": "ipython",
    "version": 3
   },
   "file_extension": ".py",
   "mimetype": "text/x-python",
   "name": "python",
   "nbconvert_exporter": "python",
   "pygments_lexer": "ipython3",
   "version": "3.12.2"
  }
 },
 "nbformat": 4,
 "nbformat_minor": 2
}
