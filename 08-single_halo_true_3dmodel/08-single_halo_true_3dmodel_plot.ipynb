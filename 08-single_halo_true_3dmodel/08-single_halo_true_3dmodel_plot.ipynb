{
 "cells": [
  {
   "cell_type": "markdown",
   "metadata": {},
   "source": [
    "# Plot the kinematics observables under isotropic inclination angle and lensing selected inclination angle"
   ]
  },
  {
   "cell_type": "code",
   "execution_count": 1,
   "metadata": {},
   "outputs": [],
   "source": [
    "import numpy as np\n",
    "import matplotlib.pyplot as plt \n",
    "import pandas as pd\n",
    "import corner\n",
    "from copy import deepcopy\n",
    "import glob\n",
    "\n",
    "from cycler import cycler\n",
    "import matplotlib as mpl\n",
    "clist = ['#04B2D9', '#F2B33D', '#F29966', '#F2441D', '#0486C5']\n",
    "mpl.rcParams['axes.prop_cycle'] = cycler(color=clist)"
   ]
  },
  {
   "cell_type": "code",
   "execution_count": 2,
   "metadata": {},
   "outputs": [],
   "source": [
    "oblate = False\n",
    "\n",
    "if oblate:\n",
    "    oblate_name = 'oblate'\n",
    "else:\n",
    "    oblate_name = 'prolate'"
   ]
  },
  {
   "cell_type": "code",
   "execution_count": 3,
   "metadata": {},
   "outputs": [],
   "source": [
    "def corner_plot_single_two_dataset(data_iso, data_sel, halo_id, qintr, plot_mean=True):\n",
    "\n",
    "    color_rm = clist[0]\n",
    "    color_sel = clist[2]\n",
    "\n",
    "    hist2dkwargs = {'plot_density':False, 'plot_contours':False, 'plot_datapoints': True, 'color': color_rm, 'data_kwargs': {'ms': 5, 'alpha': 0.4}}\n",
    "    labels = [r'$\\theta_E$ [arcsec]', r'$e$', r'$\\sigma^P$ [km/s]' ,r'$i$ [deg]']\n",
    "    label_kwargs = {'fontsize': 22}\n",
    "    hist_kwargs = {'linewidth': 2, 'density' : True}\n",
    "    hist_kwargs_sel = {'linewidth': 2, 'density' : True}\n",
    "\n",
    "    hist2dkwargs_sel = {'plot_density':False, 'plot_contours':False, 'plot_datapoints': True, 'color': color_sel, 'data_kwargs': {'ms': 10, 'alpha': 0.1}}\n",
    "\n",
    "    fig = corner.corner(data_iso.T, labels=labels, label_kwargs=label_kwargs, **hist2dkwargs, hist_kwargs=hist_kwargs)\n",
    "    corner.corner(data_sel.T, fig=fig, **hist2dkwargs_sel, hist_kwargs=hist_kwargs_sel)\n",
    "\n",
    "    for ax in fig.get_axes():\n",
    "        ax.tick_params(axis='both', labelsize=14)\n",
    "\n",
    "    plt.plot([], [], color = color_rm, lw = 2, marker = ' ', label = 'isotropic inclination')\n",
    "    plt.plot([], [], color = color_sel, lw = 2, marker = ' ', label = 'selected inclination')\n",
    "\n",
    "    if plot_mean:\n",
    "        mean_thetaE_rm = np.mean(data_iso[0, :])\n",
    "        mean_thetaE_sel = np.mean(data_sel[0, :])\n",
    "        mean_sigma_rm = np.mean(data_iso[2, :])\n",
    "        mean_sigma_sel = np.mean(data_sel[2, :])\n",
    "\n",
    "        ax_theta = fig.get_axes()[0]\n",
    "        ax_theta.axvline(mean_thetaE_rm, ls = '--', marker = ' ', color = color_rm)\n",
    "        ax_theta.axvline(mean_thetaE_sel, ls = '--', marker = ' ', color = color_sel)\n",
    "        ax_theta.set_title(r'% diff = {:.3f} %' .format(np.abs(mean_thetaE_rm - mean_thetaE_sel) / np.mean([mean_thetaE_sel, mean_thetaE_rm]) * 100), fontsize = 16)\n",
    "\n",
    "        ax_sigma = fig.get_axes()[10]\n",
    "        ax_sigma.axvline(mean_sigma_rm, ls = '--', marker = ' ', color = color_rm)\n",
    "        ax_sigma.axvline(mean_sigma_sel, ls = '--', marker = ' ', color = color_sel)\n",
    "        ax_sigma.set_title(r'% diff = {:.3f} %' .format(np.abs(mean_sigma_rm - mean_sigma_sel) / np.mean([mean_sigma_sel, mean_sigma_rm]) * 100), fontsize = 16)\n",
    "\n",
    "        plt.plot([], [], color = color_rm, ls = '--', marker = ' ', label = 'mean, isotropic')\n",
    "        plt.plot([], [], color = color_sel, ls = '--', marker = ' ', label = 'mean, selected')\n",
    "\n",
    "    fig.legend(bbox_to_anchor=(0., 0.95, 0.96 ,0), fontsize=21, frameon=False)\n",
    "    # add title\n",
    "    fig.suptitle('halo_id = {}, $q$ = {:.3f}' .format(halo_id, qintr), fontsize = 25, y = 1.05)\n",
    "    plt.savefig('./corner_plot_{}/{}_halo_{}.pdf' .format(oblate_name, oblate_name, halo_id), dpi = 300, bbox_inches='tight')\n",
    "    plt.close(fig)"
   ]
  },
  {
   "cell_type": "code",
   "execution_count": 4,
   "metadata": {},
   "outputs": [
    {
     "ename": "AssertionError",
     "evalue": "I don't believe that you want more dimensions than samples!",
     "output_type": "error",
     "traceback": [
      "\u001b[0;31m---------------------------------------------------------------------------\u001b[0m",
      "\u001b[0;31mAssertionError\u001b[0m                            Traceback (most recent call last)",
      "Cell \u001b[0;32mIn[4], line 28\u001b[0m\n\u001b[1;32m     25\u001b[0m     plot_flag \u001b[38;5;241m=\u001b[39m \u001b[38;5;241m-\u001b[39m\u001b[38;5;241m1\u001b[39m\n\u001b[1;32m     27\u001b[0m \u001b[38;5;28;01mif\u001b[39;00m plot_flag \u001b[38;5;241m!=\u001b[39m \u001b[38;5;241m-\u001b[39m\u001b[38;5;241m1\u001b[39m:\n\u001b[0;32m---> 28\u001b[0m     \u001b[43mcorner_plot_single_two_dataset\u001b[49m\u001b[43m(\u001b[49m\u001b[43mdata_iso\u001b[49m\u001b[43m,\u001b[49m\u001b[43m \u001b[49m\u001b[43mdata_sel\u001b[49m\u001b[43m,\u001b[49m\u001b[43m \u001b[49m\u001b[43mhalo_id\u001b[49m\u001b[43m,\u001b[49m\u001b[43m \u001b[49m\u001b[43mqintr\u001b[49m\u001b[43m,\u001b[49m\u001b[43m \u001b[49m\u001b[43mplot_mean\u001b[49m\u001b[38;5;241;43m=\u001b[39;49m\u001b[38;5;241;43m1\u001b[39;49m\u001b[43m)\u001b[49m\n",
      "Cell \u001b[0;32mIn[3], line 14\u001b[0m, in \u001b[0;36mcorner_plot_single_two_dataset\u001b[0;34m(data_iso, data_sel, halo_id, qintr, plot_mean)\u001b[0m\n\u001b[1;32m     10\u001b[0m hist_kwargs_sel \u001b[38;5;241m=\u001b[39m {\u001b[38;5;124m'\u001b[39m\u001b[38;5;124mlinewidth\u001b[39m\u001b[38;5;124m'\u001b[39m: \u001b[38;5;241m2\u001b[39m, \u001b[38;5;124m'\u001b[39m\u001b[38;5;124mdensity\u001b[39m\u001b[38;5;124m'\u001b[39m : \u001b[38;5;28;01mTrue\u001b[39;00m}\n\u001b[1;32m     12\u001b[0m hist2dkwargs_sel \u001b[38;5;241m=\u001b[39m {\u001b[38;5;124m'\u001b[39m\u001b[38;5;124mplot_density\u001b[39m\u001b[38;5;124m'\u001b[39m:\u001b[38;5;28;01mFalse\u001b[39;00m, \u001b[38;5;124m'\u001b[39m\u001b[38;5;124mplot_contours\u001b[39m\u001b[38;5;124m'\u001b[39m:\u001b[38;5;28;01mFalse\u001b[39;00m, \u001b[38;5;124m'\u001b[39m\u001b[38;5;124mplot_datapoints\u001b[39m\u001b[38;5;124m'\u001b[39m: \u001b[38;5;28;01mTrue\u001b[39;00m, \u001b[38;5;124m'\u001b[39m\u001b[38;5;124mcolor\u001b[39m\u001b[38;5;124m'\u001b[39m: color_sel, \u001b[38;5;124m'\u001b[39m\u001b[38;5;124mdata_kwargs\u001b[39m\u001b[38;5;124m'\u001b[39m: {\u001b[38;5;124m'\u001b[39m\u001b[38;5;124mms\u001b[39m\u001b[38;5;124m'\u001b[39m: \u001b[38;5;241m10\u001b[39m, \u001b[38;5;124m'\u001b[39m\u001b[38;5;124malpha\u001b[39m\u001b[38;5;124m'\u001b[39m: \u001b[38;5;241m0.1\u001b[39m}}\n\u001b[0;32m---> 14\u001b[0m fig \u001b[38;5;241m=\u001b[39m \u001b[43mcorner\u001b[49m\u001b[38;5;241;43m.\u001b[39;49m\u001b[43mcorner\u001b[49m\u001b[43m(\u001b[49m\u001b[43mdata_iso\u001b[49m\u001b[38;5;241;43m.\u001b[39;49m\u001b[43mT\u001b[49m\u001b[43m,\u001b[49m\u001b[43m \u001b[49m\u001b[43mlabels\u001b[49m\u001b[38;5;241;43m=\u001b[39;49m\u001b[43mlabels\u001b[49m\u001b[43m,\u001b[49m\u001b[43m \u001b[49m\u001b[43mlabel_kwargs\u001b[49m\u001b[38;5;241;43m=\u001b[39;49m\u001b[43mlabel_kwargs\u001b[49m\u001b[43m,\u001b[49m\u001b[43m \u001b[49m\u001b[38;5;241;43m*\u001b[39;49m\u001b[38;5;241;43m*\u001b[39;49m\u001b[43mhist2dkwargs\u001b[49m\u001b[43m,\u001b[49m\u001b[43m \u001b[49m\u001b[43mhist_kwargs\u001b[49m\u001b[38;5;241;43m=\u001b[39;49m\u001b[43mhist_kwargs\u001b[49m\u001b[43m)\u001b[49m\n\u001b[1;32m     15\u001b[0m corner\u001b[38;5;241m.\u001b[39mcorner(data_sel\u001b[38;5;241m.\u001b[39mT, fig\u001b[38;5;241m=\u001b[39mfig, \u001b[38;5;241m*\u001b[39m\u001b[38;5;241m*\u001b[39mhist2dkwargs_sel, hist_kwargs\u001b[38;5;241m=\u001b[39mhist_kwargs_sel)\n\u001b[1;32m     17\u001b[0m \u001b[38;5;28;01mfor\u001b[39;00m ax \u001b[38;5;129;01min\u001b[39;00m fig\u001b[38;5;241m.\u001b[39mget_axes():\n",
      "File \u001b[0;32m~/anaconda3/envs/koholint/lib/python3.12/site-packages/corner/corner.py:248\u001b[0m, in \u001b[0;36mcorner\u001b[0;34m(data, bins, range, axes_scale, weights, color, hist_bin_factor, smooth, smooth1d, labels, label_kwargs, titles, show_titles, title_quantiles, title_fmt, title_kwargs, truths, truth_color, scale_hist, quantiles, verbose, fig, max_n_ticks, top_ticks, use_math_text, reverse, labelpad, hist_kwargs, group, var_names, filter_vars, coords, divergences, divergences_kwargs, labeller, **hist2d_kwargs)\u001b[0m\n\u001b[1;32m    236\u001b[0m     \u001b[38;5;28;01mif\u001b[39;00m (\n\u001b[1;32m    237\u001b[0m         var_names \u001b[38;5;129;01mis\u001b[39;00m \u001b[38;5;129;01mnot\u001b[39;00m \u001b[38;5;28;01mNone\u001b[39;00m\n\u001b[1;32m    238\u001b[0m         \u001b[38;5;129;01mor\u001b[39;00m filter_vars \u001b[38;5;129;01mis\u001b[39;00m \u001b[38;5;129;01mnot\u001b[39;00m \u001b[38;5;28;01mNone\u001b[39;00m\n\u001b[0;32m   (...)\u001b[0m\n\u001b[1;32m    242\u001b[0m         \u001b[38;5;129;01mor\u001b[39;00m labeller \u001b[38;5;129;01mis\u001b[39;00m \u001b[38;5;129;01mnot\u001b[39;00m \u001b[38;5;28;01mNone\u001b[39;00m\n\u001b[1;32m    243\u001b[0m     ):\n\u001b[1;32m    244\u001b[0m         logging\u001b[38;5;241m.\u001b[39mwarning(\n\u001b[1;32m    245\u001b[0m             \u001b[38;5;124m\"\u001b[39m\u001b[38;5;124mPlease install arviz to use the advanced features of corner\u001b[39m\u001b[38;5;124m\"\u001b[39m\n\u001b[1;32m    246\u001b[0m         )\n\u001b[0;32m--> 248\u001b[0m     \u001b[38;5;28;01mreturn\u001b[39;00m \u001b[43mcorner_impl\u001b[49m\u001b[43m(\u001b[49m\n\u001b[1;32m    249\u001b[0m \u001b[43m        \u001b[49m\u001b[43mdata\u001b[49m\u001b[43m,\u001b[49m\n\u001b[1;32m    250\u001b[0m \u001b[43m        \u001b[49m\u001b[43mbins\u001b[49m\u001b[38;5;241;43m=\u001b[39;49m\u001b[43mbins\u001b[49m\u001b[43m,\u001b[49m\n\u001b[1;32m    251\u001b[0m \u001b[43m        \u001b[49m\u001b[38;5;28;43mrange\u001b[39;49m\u001b[38;5;241;43m=\u001b[39;49m\u001b[38;5;28;43mrange\u001b[39;49m\u001b[43m,\u001b[49m\n\u001b[1;32m    252\u001b[0m \u001b[43m        \u001b[49m\u001b[43maxes_scale\u001b[49m\u001b[38;5;241;43m=\u001b[39;49m\u001b[43maxes_scale\u001b[49m\u001b[43m,\u001b[49m\n\u001b[1;32m    253\u001b[0m \u001b[43m        \u001b[49m\u001b[43mweights\u001b[49m\u001b[38;5;241;43m=\u001b[39;49m\u001b[43mweights\u001b[49m\u001b[43m,\u001b[49m\n\u001b[1;32m    254\u001b[0m \u001b[43m        \u001b[49m\u001b[43mcolor\u001b[49m\u001b[38;5;241;43m=\u001b[39;49m\u001b[43mcolor\u001b[49m\u001b[43m,\u001b[49m\n\u001b[1;32m    255\u001b[0m \u001b[43m        \u001b[49m\u001b[43mhist_bin_factor\u001b[49m\u001b[38;5;241;43m=\u001b[39;49m\u001b[43mhist_bin_factor\u001b[49m\u001b[43m,\u001b[49m\n\u001b[1;32m    256\u001b[0m \u001b[43m        \u001b[49m\u001b[43msmooth\u001b[49m\u001b[38;5;241;43m=\u001b[39;49m\u001b[43msmooth\u001b[49m\u001b[43m,\u001b[49m\n\u001b[1;32m    257\u001b[0m \u001b[43m        \u001b[49m\u001b[43msmooth1d\u001b[49m\u001b[38;5;241;43m=\u001b[39;49m\u001b[43msmooth1d\u001b[49m\u001b[43m,\u001b[49m\n\u001b[1;32m    258\u001b[0m \u001b[43m        \u001b[49m\u001b[43mlabels\u001b[49m\u001b[38;5;241;43m=\u001b[39;49m\u001b[43mlabels\u001b[49m\u001b[43m,\u001b[49m\n\u001b[1;32m    259\u001b[0m \u001b[43m        \u001b[49m\u001b[43mlabel_kwargs\u001b[49m\u001b[38;5;241;43m=\u001b[39;49m\u001b[43mlabel_kwargs\u001b[49m\u001b[43m,\u001b[49m\n\u001b[1;32m    260\u001b[0m \u001b[43m        \u001b[49m\u001b[43mtitles\u001b[49m\u001b[38;5;241;43m=\u001b[39;49m\u001b[43mtitles\u001b[49m\u001b[43m,\u001b[49m\n\u001b[1;32m    261\u001b[0m \u001b[43m        \u001b[49m\u001b[43mshow_titles\u001b[49m\u001b[38;5;241;43m=\u001b[39;49m\u001b[43mshow_titles\u001b[49m\u001b[43m,\u001b[49m\n\u001b[1;32m    262\u001b[0m \u001b[43m        \u001b[49m\u001b[43mtitle_quantiles\u001b[49m\u001b[38;5;241;43m=\u001b[39;49m\u001b[43mtitle_quantiles\u001b[49m\u001b[43m,\u001b[49m\n\u001b[1;32m    263\u001b[0m \u001b[43m        \u001b[49m\u001b[43mtitle_fmt\u001b[49m\u001b[38;5;241;43m=\u001b[39;49m\u001b[43mtitle_fmt\u001b[49m\u001b[43m,\u001b[49m\n\u001b[1;32m    264\u001b[0m \u001b[43m        \u001b[49m\u001b[43mtitle_kwargs\u001b[49m\u001b[38;5;241;43m=\u001b[39;49m\u001b[43mtitle_kwargs\u001b[49m\u001b[43m,\u001b[49m\n\u001b[1;32m    265\u001b[0m \u001b[43m        \u001b[49m\u001b[43mtruths\u001b[49m\u001b[38;5;241;43m=\u001b[39;49m\u001b[43mtruths\u001b[49m\u001b[43m,\u001b[49m\n\u001b[1;32m    266\u001b[0m \u001b[43m        \u001b[49m\u001b[43mtruth_color\u001b[49m\u001b[38;5;241;43m=\u001b[39;49m\u001b[43mtruth_color\u001b[49m\u001b[43m,\u001b[49m\n\u001b[1;32m    267\u001b[0m \u001b[43m        \u001b[49m\u001b[43mscale_hist\u001b[49m\u001b[38;5;241;43m=\u001b[39;49m\u001b[43mscale_hist\u001b[49m\u001b[43m,\u001b[49m\n\u001b[1;32m    268\u001b[0m \u001b[43m        \u001b[49m\u001b[43mquantiles\u001b[49m\u001b[38;5;241;43m=\u001b[39;49m\u001b[43mquantiles\u001b[49m\u001b[43m,\u001b[49m\n\u001b[1;32m    269\u001b[0m \u001b[43m        \u001b[49m\u001b[43mverbose\u001b[49m\u001b[38;5;241;43m=\u001b[39;49m\u001b[43mverbose\u001b[49m\u001b[43m,\u001b[49m\n\u001b[1;32m    270\u001b[0m \u001b[43m        \u001b[49m\u001b[43mfig\u001b[49m\u001b[38;5;241;43m=\u001b[39;49m\u001b[43mfig\u001b[49m\u001b[43m,\u001b[49m\n\u001b[1;32m    271\u001b[0m \u001b[43m        \u001b[49m\u001b[43mmax_n_ticks\u001b[49m\u001b[38;5;241;43m=\u001b[39;49m\u001b[43mmax_n_ticks\u001b[49m\u001b[43m,\u001b[49m\n\u001b[1;32m    272\u001b[0m \u001b[43m        \u001b[49m\u001b[43mtop_ticks\u001b[49m\u001b[38;5;241;43m=\u001b[39;49m\u001b[43mtop_ticks\u001b[49m\u001b[43m,\u001b[49m\n\u001b[1;32m    273\u001b[0m \u001b[43m        \u001b[49m\u001b[43muse_math_text\u001b[49m\u001b[38;5;241;43m=\u001b[39;49m\u001b[43muse_math_text\u001b[49m\u001b[43m,\u001b[49m\n\u001b[1;32m    274\u001b[0m \u001b[43m        \u001b[49m\u001b[43mreverse\u001b[49m\u001b[38;5;241;43m=\u001b[39;49m\u001b[43mreverse\u001b[49m\u001b[43m,\u001b[49m\n\u001b[1;32m    275\u001b[0m \u001b[43m        \u001b[49m\u001b[43mlabelpad\u001b[49m\u001b[38;5;241;43m=\u001b[39;49m\u001b[43mlabelpad\u001b[49m\u001b[43m,\u001b[49m\n\u001b[1;32m    276\u001b[0m \u001b[43m        \u001b[49m\u001b[43mhist_kwargs\u001b[49m\u001b[38;5;241;43m=\u001b[39;49m\u001b[43mhist_kwargs\u001b[49m\u001b[43m,\u001b[49m\n\u001b[1;32m    277\u001b[0m \u001b[43m        \u001b[49m\u001b[38;5;241;43m*\u001b[39;49m\u001b[38;5;241;43m*\u001b[39;49m\u001b[43mhist2d_kwargs\u001b[49m\u001b[43m,\u001b[49m\n\u001b[1;32m    278\u001b[0m \u001b[43m    \u001b[49m\u001b[43m)\u001b[49m\n\u001b[1;32m    280\u001b[0m \u001b[38;5;28;01mreturn\u001b[39;00m arviz_corner(\n\u001b[1;32m    281\u001b[0m     data,\n\u001b[1;32m    282\u001b[0m     bins\u001b[38;5;241m=\u001b[39mbins,\n\u001b[0;32m   (...)\u001b[0m\n\u001b[1;32m    316\u001b[0m     \u001b[38;5;241m*\u001b[39m\u001b[38;5;241m*\u001b[39mhist2d_kwargs,\n\u001b[1;32m    317\u001b[0m )\n",
      "File \u001b[0;32m~/anaconda3/envs/koholint/lib/python3.12/site-packages/corner/core.py:90\u001b[0m, in \u001b[0;36mcorner_impl\u001b[0;34m(xs, bins, range, axes_scale, weights, color, hist_bin_factor, smooth, smooth1d, labels, label_kwargs, titles, show_titles, title_fmt, title_kwargs, truths, truth_color, scale_hist, quantiles, title_quantiles, verbose, fig, max_n_ticks, top_ticks, use_math_text, reverse, labelpad, hist_kwargs, **hist2d_kwargs)\u001b[0m\n\u001b[1;32m     88\u001b[0m \u001b[38;5;66;03m# Deal with 1D sample lists.\u001b[39;00m\n\u001b[1;32m     89\u001b[0m xs \u001b[38;5;241m=\u001b[39m _parse_input(xs)\n\u001b[0;32m---> 90\u001b[0m \u001b[38;5;28;01massert\u001b[39;00m xs\u001b[38;5;241m.\u001b[39mshape[\u001b[38;5;241m0\u001b[39m] \u001b[38;5;241m<\u001b[39m\u001b[38;5;241m=\u001b[39m xs\u001b[38;5;241m.\u001b[39mshape[\u001b[38;5;241m1\u001b[39m], (\n\u001b[1;32m     91\u001b[0m     \u001b[38;5;124m\"\u001b[39m\u001b[38;5;124mI don\u001b[39m\u001b[38;5;124m'\u001b[39m\u001b[38;5;124mt believe that you want more \u001b[39m\u001b[38;5;124m\"\u001b[39m \u001b[38;5;124m\"\u001b[39m\u001b[38;5;124mdimensions than samples!\u001b[39m\u001b[38;5;124m\"\u001b[39m\n\u001b[1;32m     92\u001b[0m )\n\u001b[1;32m     94\u001b[0m \u001b[38;5;66;03m# Parse the weight array.\u001b[39;00m\n\u001b[1;32m     95\u001b[0m \u001b[38;5;28;01mif\u001b[39;00m weights \u001b[38;5;129;01mis\u001b[39;00m \u001b[38;5;129;01mnot\u001b[39;00m \u001b[38;5;28;01mNone\u001b[39;00m:\n",
      "\u001b[0;31mAssertionError\u001b[0m: I don't believe that you want more dimensions than samples!"
     ]
    }
   ],
   "source": [
    "# access catalog\n",
    "cat = pd.read_pickle('../06-make_kin_mock_data/axisym_tng_catalog/{}_catalog.pkl' .format(oblate_name))\n",
    "\n",
    "for i in range(len(cat)):\n",
    "\n",
    "    gal_kwargs = cat.iloc[i].to_dict()\n",
    "    halo_id = int(gal_kwargs.get('halo_id'))\n",
    "    if oblate:\n",
    "        qintr = gal_kwargs.get('xi_new') # modify if prolate\n",
    "    else:\n",
    "        qintr = 1/gal_kwargs.get('zeta_new')\n",
    "\n",
    "    plot_flag = 1\n",
    "\n",
    "    # find data\n",
    "    try:\n",
    "        file_isotropic = glob.glob('./data_{}/{}_isotropic_{}.npy' .format(oblate_name, oblate_name, halo_id))[0]\n",
    "        data_iso = np.load(file_isotropic)\n",
    "    except:\n",
    "        plot_flag = -1\n",
    "    try:\n",
    "        file_selected = glob.glob('./data_{}/{}_selected_{}.npy' .format(oblate_name, oblate_name, halo_id))[0]\n",
    "        data_sel = np.load(file_selected)\n",
    "    except:\n",
    "        plot_flag = -1\n",
    "\n",
    "    if plot_flag != -1:\n",
    "        corner_plot_single_two_dataset(data_iso, data_sel, halo_id, qintr, plot_mean=1)"
   ]
  },
  {
   "cell_type": "code",
   "execution_count": null,
   "metadata": {},
   "outputs": [],
   "source": []
  }
 ],
 "metadata": {
  "kernelspec": {
   "display_name": "python(koholint)",
   "language": "python",
   "name": "koholint"
  },
  "language_info": {
   "codemirror_mode": {
    "name": "ipython",
    "version": 3
   },
   "file_extension": ".py",
   "mimetype": "text/x-python",
   "name": "python",
   "nbconvert_exporter": "python",
   "pygments_lexer": "ipython3",
   "version": "3.12.2"
  }
 },
 "nbformat": 4,
 "nbformat_minor": 2
}
