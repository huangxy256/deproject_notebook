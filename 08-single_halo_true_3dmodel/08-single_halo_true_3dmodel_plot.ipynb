{
 "cells": [
  {
   "cell_type": "markdown",
   "metadata": {},
   "source": [
    "# Plot the kinematics observables under isotropic inclination angle and lensing selected inclination angle"
   ]
  },
  {
   "cell_type": "code",
   "execution_count": 1,
   "metadata": {},
   "outputs": [],
   "source": [
    "import numpy as np\n",
    "import matplotlib.pyplot as plt \n",
    "import pandas as pd\n",
    "import corner\n",
    "from copy import deepcopy\n",
    "import glob\n",
    "\n",
    "from cycler import cycler\n",
    "import matplotlib as mpl\n",
    "clist = ['#04B2D9', '#F2B33D', '#F29966', '#F2441D', '#0486C5']\n",
    "mpl.rcParams['axes.prop_cycle'] = cycler(color=clist)"
   ]
  },
  {
   "cell_type": "code",
   "execution_count": 2,
   "metadata": {},
   "outputs": [],
   "source": [
    "oblate = True\n",
    "\n",
    "if oblate:\n",
    "    oblate_name = 'oblate'\n",
    "else:\n",
    "    oblate_name = 'prolate'"
   ]
  },
  {
   "cell_type": "code",
   "execution_count": 3,
   "metadata": {},
   "outputs": [],
   "source": [
    "def corner_plot_single_two_dataset(data_iso, data_sel, halo_id, qintr, plot_mean=True):\n",
    "\n",
    "    color_rm = clist[0]\n",
    "    color_sel = clist[2]\n",
    "\n",
    "    hist2dkwargs = {'plot_density':False, 'plot_contours':False, 'plot_datapoints': True, 'color': color_rm, 'data_kwargs': {'ms': 5, 'alpha': 0.4}}\n",
    "    labels = [r'$\\theta_E$ [arcsec]', r'$e$', r'$\\sigma^P$ [km/s]' ,r'$i$ [deg]']\n",
    "    label_kwargs = {'fontsize': 22}\n",
    "    hist_kwargs = {'linewidth': 2, 'density' : True}\n",
    "    hist_kwargs_sel = {'linewidth': 2, 'density' : True}\n",
    "\n",
    "    hist2dkwargs_sel = {'plot_density':False, 'plot_contours':False, 'plot_datapoints': True, 'color': color_sel, 'data_kwargs': {'ms': 10, 'alpha': 0.1}}\n",
    "\n",
    "    fig = corner.corner(data_iso.T, labels=labels, label_kwargs=label_kwargs, **hist2dkwargs, hist_kwargs=hist_kwargs)\n",
    "    corner.corner(data_sel.T, fig=fig, **hist2dkwargs_sel, hist_kwargs=hist_kwargs_sel)\n",
    "\n",
    "    for ax in fig.get_axes():\n",
    "        ax.tick_params(axis='both', labelsize=14)\n",
    "\n",
    "    plt.plot([], [], color = color_rm, lw = 2, marker = ' ', label = 'isotropic inclination')\n",
    "    plt.plot([], [], color = color_sel, lw = 2, marker = ' ', label = 'selected inclination')\n",
    "\n",
    "    if plot_mean:\n",
    "        mean_thetaE_rm = np.mean(data_iso[0, :])\n",
    "        mean_thetaE_sel = np.mean(data_sel[0, :])\n",
    "        mean_sigma_rm = np.mean(data_iso[2, :])\n",
    "        mean_sigma_sel = np.mean(data_sel[2, :])\n",
    "\n",
    "        ax_theta = fig.get_axes()[0]\n",
    "        ax_theta.axvline(mean_thetaE_rm, ls = '--', marker = ' ', color = color_rm)\n",
    "        ax_theta.axvline(mean_thetaE_sel, ls = '--', marker = ' ', color = color_sel)\n",
    "        ax_theta.set_title(r'% diff = {:.3f} %' .format(np.abs(mean_thetaE_rm - mean_thetaE_sel) / np.mean([mean_thetaE_sel, mean_thetaE_rm]) * 100), fontsize = 16)\n",
    "\n",
    "        ax_sigma = fig.get_axes()[10]\n",
    "        ax_sigma.axvline(mean_sigma_rm, ls = '--', marker = ' ', color = color_rm)\n",
    "        ax_sigma.axvline(mean_sigma_sel, ls = '--', marker = ' ', color = color_sel)\n",
    "        ax_sigma.set_title(r'% diff = {:.3f} %' .format(np.abs(mean_sigma_rm - mean_sigma_sel) / np.mean([mean_sigma_sel, mean_sigma_rm]) * 100), fontsize = 16)\n",
    "\n",
    "        plt.plot([], [], color = color_rm, ls = '--', marker = ' ', label = 'mean, isotropic')\n",
    "        plt.plot([], [], color = color_sel, ls = '--', marker = ' ', label = 'mean, selected')\n",
    "\n",
    "    fig.legend(bbox_to_anchor=(0., 0.95, 0.96 ,0), fontsize=21, frameon=False)\n",
    "    # add title\n",
    "    fig.suptitle('halo_id = {}, $q$ = {:.3f}' .format(halo_id, qintr), fontsize = 25, y = 1.05)\n",
    "    plt.savefig('./corner_plot_{}/{}_halo_{}.pdf' .format(oblate_name, oblate_name, halo_id), dpi = 300, bbox_inches='tight')\n",
    "    plt.close(fig)"
   ]
  },
  {
   "cell_type": "code",
   "execution_count": 4,
   "metadata": {},
   "outputs": [],
   "source": [
    "# access catalog\n",
    "cat = pd.read_pickle('../06-make_kin_mock_data/axisym_tng_catalog/{}_catalog.pkl' .format(oblate_name))\n",
    "\n",
    "for i in range(len(cat)):\n",
    "\n",
    "    gal_kwargs = cat.iloc[i].to_dict()\n",
    "    halo_id = int(gal_kwargs.get('halo_id'))\n",
    "    if oblate:\n",
    "        qintr = gal_kwargs.get('xi_new') # modify if prolate\n",
    "    else:\n",
    "        qintr = 1/gal_kwargs.get('zeta_new')\n",
    "\n",
    "    plot_flag = 1\n",
    "\n",
    "    # find data\n",
    "    try:\n",
    "        file_isotropic = glob.glob('./data_{}/{}_isotropic_{}.npy' .format(oblate_name, oblate_name, halo_id))[0]\n",
    "        data_iso = np.load(file_isotropic)\n",
    "    except:\n",
    "        plot_flag = -1\n",
    "    try:\n",
    "        file_selected = glob.glob('./data_{}/{}_selected_{}.npy' .format(oblate_name, oblate_name, halo_id))[0]\n",
    "        data_sel = np.load(file_selected)\n",
    "    except:\n",
    "        plot_flag = -1\n",
    "\n",
    "    if plot_flag != -1:\n",
    "        corner_plot_single_two_dataset(data_iso, data_sel, halo_id, qintr, plot_mean=1)"
   ]
  },
  {
   "cell_type": "code",
   "execution_count": null,
   "metadata": {},
   "outputs": [],
   "source": []
  }
 ],
 "metadata": {
  "kernelspec": {
   "display_name": "python(koholint)",
   "language": "python",
   "name": "koholint"
  },
  "language_info": {
   "codemirror_mode": {
    "name": "ipython",
    "version": 3
   },
   "file_extension": ".py",
   "mimetype": "text/x-python",
   "name": "python",
   "nbconvert_exporter": "python",
   "pygments_lexer": "ipython3",
   "version": "3.12.2"
  }
 },
 "nbformat": 4,
 "nbformat_minor": 2
}
